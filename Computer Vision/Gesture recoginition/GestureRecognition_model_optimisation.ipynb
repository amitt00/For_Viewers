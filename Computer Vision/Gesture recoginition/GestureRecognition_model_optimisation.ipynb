{
  "cells": [
    {
      "cell_type": "markdown",
      "metadata": {
        "id": "X-p9l5mLqHRQ"
      },
      "source": [
        "# Gesture Recognition\n",
        "In this group project, you are going to build a 3D Conv model that will be able to predict the 5 gestures correctly. Please import the following libraries to get started."
      ]
    },
    {
      "cell_type": "code",
      "execution_count": 1,
      "metadata": {
        "id": "hS8_qxCwqHRQ"
      },
      "outputs": [],
      "source": [
        "import numpy as np\n",
        "import os\n",
        "from skimage.transform import resize\n",
        "from matplotlib.pyplot import imread\n",
        "import datetime\n",
        "import tensorflow as tf\n",
        "from PIL import Image\n",
        "import os\n",
        "from tensorflow.keras.utils import to_categorical"
      ]
    },
    {
      "cell_type": "markdown",
      "metadata": {
        "id": "3gR2stUdqHRQ"
      },
      "source": [
        "We set the random seed so that the results don't vary drastically."
      ]
    },
    {
      "cell_type": "code",
      "execution_count": 2,
      "metadata": {
        "id": "LW7qlu6UqHRQ"
      },
      "outputs": [],
      "source": [
        "\n",
        "import random as random\n",
        "\n",
        "from keras import backend as K\n",
        "import tensorflow as tf\n",
        "import pathlib\n",
        "import glob\n",
        "from keras.models import Sequential, Model\n",
        "from keras.layers import Dense, GRU, Flatten, TimeDistributed, Flatten, BatchNormalization, Activation,Dropout\n",
        "from keras.layers.convolutional import Conv3D, MaxPooling3D\n",
        "from keras.callbacks import ModelCheckpoint, ReduceLROnPlateau\n",
        "from keras import optimizers,regularizers\n"
      ]
    },
    {
      "cell_type": "code",
      "execution_count": 3,
      "metadata": {
        "colab": {
          "base_uri": "https://localhost:8080/"
        },
        "id": "sHfI6rtYqIqU",
        "outputId": "b2ce1f7a-43ef-4806-8efc-a2c4fb591f45"
      },
      "outputs": [
        {
          "output_type": "stream",
          "name": "stdout",
          "text": [
            "Mounted at /content/drive\n"
          ]
        }
      ],
      "source": [
        "from google.colab import drive\n",
        "# This will prompt for authorization.\n",
        "drive.mount('/content/drive')"
      ]
    },
    {
      "cell_type": "code",
      "execution_count": 4,
      "metadata": {
        "id": "BhWbQnFoqKtk"
      },
      "outputs": [],
      "source": [
        "#!unzip -u \"/content/drive/MyDrive/Project_data.zip\" -d \"/content/drive/MyDrive/Project_data\""
      ]
    },
    {
      "cell_type": "code",
      "execution_count": 5,
      "metadata": {
        "id": "kppswDBWsAC8"
      },
      "outputs": [],
      "source": [
        "image_dir_train = pathlib.Path(\"/content/drive/MyDrive/Project_data/Project_data/train\")\n",
        "image_dir_test = pathlib.Path('/content/drive/MyDrive/Project_data/Project_data/val')\n",
        "source_path          = \"/content/drive/MyDrive/Project_data/Project_data/\"\n",
        "\n",
        "train_doc = np.random.permutation(open(source_path+'train.csv').readlines())\n",
        "val_doc = np.random.permutation(open(source_path+'val.csv').readlines())"
      ]
    },
    {
      "cell_type": "code",
      "execution_count": 6,
      "metadata": {
        "id": "BgMt61wRzA7E"
      },
      "outputs": [],
      "source": [
        "os.environ['TF_FORCE_GPU_ALLOW_GROWTH'] = 'true'\n",
        "#image_count_train = len(list(image_dir_train.glob('*/*.png')))\n",
        "#print(image_count_train)\n",
        "#image_count_test = len(list(image_dir_test.glob('*/*.png')))\n",
        "#print(image_count_test)"
      ]
    },
    {
      "cell_type": "code",
      "execution_count": 7,
      "metadata": {
        "colab": {
          "base_uri": "https://localhost:8080/"
        },
        "id": "RwWvbpAReJrI",
        "outputId": "8c9882f9-8af7-413d-a233-4cb8a8c7a743"
      },
      "outputs": [
        {
          "output_type": "stream",
          "name": "stdout",
          "text": [
            "# training sequences = 663\n"
          ]
        }
      ],
      "source": [
        "curr_dt_time = datetime.datetime.now()\n",
        "train_path = \"/content/drive/MyDrive/Project_data/Project_data/train\"\n",
        "test_path = '/content/drive/MyDrive/Project_data/Project_data/val'\n",
        "num_train_sequences = len(train_doc)\n",
        "print('# training sequences =', num_train_sequences)\n",
        "num_val_sequences = len(val_doc)"
      ]
    },
    {
      "cell_type": "markdown",
      "metadata": {
        "id": "m94tw3bwqHRQ"
      },
      "source": [
        "In this block, you read the folder names for training and validation. You also set the `batch_size` here. Note that you set the batch size in such a way that you are able to use the GPU in full capacity. You keep increasing the batch size until the machine throws an error."
      ]
    },
    {
      "cell_type": "markdown",
      "metadata": {
        "id": "R4iSBnvqqHS0"
      },
      "source": [
        "## Generator\n"
      ]
    },
    {
      "cell_type": "code",
      "execution_count": 8,
      "metadata": {
        "id": "XEDHW6_3qHS0"
      },
      "outputs": [],
      "source": [
        "import time\n",
        "def generator(source_path, folder_list, batch_size,random_img):\n",
        "    print( 'Source path = ', source_path, '; batch size =', batch_size)\n",
        "    if random_img==1:\n",
        "        img_idx = list(random.sample(range(0,30),num_imges))\n",
        "    else:\n",
        "        img_idx = list(range(num_imges))   \n",
        "    while True:\n",
        "        t = np.random.permutation(folder_list)\n",
        "        #t=np.random.shuffle(folder_list)\n",
        "        num_batches = len(folder_list)//batch_size\n",
        "        for batch in range(num_batches): # we iterate over the number of batches\n",
        "            time.sleep(0.1)\n",
        "            batch_data = np.zeros((batch_size,len(img_idx),120,160,3)) # x is the number of images you use for each video, (y,z) is the final size of the input images and 3 is the number of channels RGB\n",
        "            batch_labels = np.zeros((batch_size,5)) # batch_labels is the one hot representation of the output\n",
        "            for folder in range(batch_size): # iterate over the batch_size\n",
        "                #print(batch,folder,(folder + (batch*batch_size)))\n",
        "                imgs = os.listdir(source_path+'/'+ t[folder + (batch*batch_size)].split(';')[0]) # read all the images in the folder\n",
        "                for idx,item in enumerate(img_idx): #  Iterate iver the frames/images of a folder to read them in\n",
        "                    image = Image.open((source_path+'/'+ t[folder + (batch*batch_size)].split(';')[0]+'/'+imgs[item]))\n",
        "                    shap0,shap1,shap2=np.array(image).shape\n",
        "                    if shap0==360 and shap1==360:\n",
        "                        area=(15,80,355,340)  #for 240*320(20,100,360,340)\n",
        "                        image=(np.array(image.crop(area)))\n",
        "                        image = np.resize(image,(120, 160,3))\n",
        "                    else:\n",
        "                        image=(np.array(image))\n",
        "                        image = np.resize(image,(120, 160,3))\n",
        "                    #crop the images and resize them. Note that the images are of 2 different shape \n",
        "                    #and the conv3D will throw error if the inputs in a batch have different shapes\n",
        "                    \n",
        "                    batch_data[folder,idx,:,:,0] = image[:,:,0]/255.0\n",
        "                    batch_data[folder,idx,:,:,1] = image[:,:,1]/255.0\n",
        "                    batch_data[folder,idx,:,:,2] = image[:,:,2]/255.0\n",
        "                    \n",
        "                batch_labels[folder, int(t[folder + (batch*batch_size)].split(';')[2])] = 1\n",
        "                \n",
        "                #batch_labels = tf.keras.utils.to_categorical(batch_labels, 5)\n",
        "            yield batch_data, batch_labels #you yield the batch_data and the batch_labels, remember what does yield do\n",
        "\n",
        "        \n",
        "        # write the code for the remaining data points which are left after full batches\n",
        "        # I have used all of training data by using batch size in mutiple of 663.(batchsize available:3,13,17,39,51,221:=range is distributed)\n",
        "        #For validation data only few folders were left out. (I will learn it,incase if someday it makes much difference as loosing training data:)\n",
        "\n"
      ]
    },
    {
      "cell_type": "code",
      "execution_count": 9,
      "metadata": {
        "id": "BG4gAGFKlm8F"
      },
      "outputs": [],
      "source": [
        "import matplotlib.pyplot as plt\n",
        "\n",
        "def steps(batch_size):\n",
        "  if (num_train_sequences%batch_size) == 0:\n",
        "      steps_per_epoch = int(num_train_sequences/batch_size)\n",
        "  else:\n",
        "      steps_per_epoch = (num_train_sequences//batch_size) + 1\n",
        "\n",
        "  if (num_val_sequences%batch_size) == 0:\n",
        "      validation_steps = int(num_val_sequences/batch_size)\n",
        "  else:\n",
        "      validation_steps = (num_val_sequences//batch_size) + 1    \n",
        "  return steps_per_epoch,validation_steps\n",
        "\n",
        "def plot_history(history):   \n",
        "   val_acc = history.history['val_categorical_accuracy']\n",
        "   acc = history.history['categorical_accuracy']\n",
        "   loss = history.history['loss']\n",
        "   val_loss = history.history['val_loss']\n",
        "\n",
        "   epochs_range = range(num_epochs)\n",
        " \n",
        "   plt.figure(figsize=(8, 8))\n",
        "   plt.subplot(1, 2, 1)\n",
        "   plt.plot(epochs_range, acc, label='Training Accuracy')\n",
        "   plt.plot(epochs_range, val_acc, label='Validation Accuracy')\n",
        "   plt.legend(loc='lower right')\n",
        "   plt.title('Training and Validation Accuracy')\n",
        " \n",
        "   plt.subplot(1, 2, 2)\n",
        "   plt.plot(epochs_range, loss, label='Training Loss')\n",
        "   plt.plot(epochs_range, val_loss, label='Validation Loss')\n",
        "   plt.legend(loc='upper right')\n",
        "   plt.title('Training and Validation Loss')\n",
        "   return plt.show()"
      ]
    },
    {
      "cell_type": "markdown",
      "metadata": {
        "id": "WD5ebGjbc_WW"
      },
      "source": [
        "#Model 1\n",
        "Trying to overfit on small data and 2 convolution layers\n",
        " : Fixed learning rate=0.01\n"
      ]
    },
    {
      "cell_type": "markdown",
      "metadata": {
        "id": "-XkoZT9qc3-I"
      },
      "source": [
        "HyperParameters"
      ]
    },
    {
      "cell_type": "code",
      "execution_count": null,
      "metadata": {
        "colab": {
          "base_uri": "https://localhost:8080/"
        },
        "id": "j--LMLoac8VZ",
        "outputId": "e43b8989-edc1-47e5-8efd-63076ca527a6"
      },
      "outputs": [
        {
          "name": "stdout",
          "output_type": "stream",
          "text": [
            "Batch_size= 3 \n",
            "   epochs = 12\n"
          ]
        }
      ],
      "source": [
        "batch_size = 3\n",
        "num_imges=3       #per_folder\n",
        "num_epochs=12\n",
        "input_shape=[num_imges,120,160,3]\n",
        "print (\"Batch_size=\",batch_size,\"\\n   epochs =\", num_epochs)"
      ]
    },
    {
      "cell_type": "markdown",
      "metadata": {
        "id": "sZniKqDuqHS0"
      },
      "source": [
        "Objective:\n",
        "Trying to overfit on small values of hyperparameter"
      ]
    },
    {
      "cell_type": "code",
      "execution_count": null,
      "metadata": {
        "id": "W2Bi1gdQfOpc"
      },
      "outputs": [],
      "source": [
        "model = Sequential()\n",
        "model.add(Conv3D(32, kernel_size=(3, 3, 3), activation='relu', input_shape=input_shape,padding=\"same\"))\n",
        "model.add(Conv3D(32, kernel_size=(2, 2, 2), activation='relu',padding=\"same\"))\n",
        "model.add(BatchNormalization())\n",
        "model.add(MaxPooling3D(pool_size=(2, 2, 2)))\n",
        "model.add(Dropout(0.35))\n",
        "model.add(Flatten())\n",
        "model.add(Dense(256, activation='relu'))\n",
        "model.add(Dense(5, activation='softmax') )"
      ]
    },
    {
      "cell_type": "code",
      "execution_count": null,
      "metadata": {
        "colab": {
          "base_uri": "https://localhost:8080/"
        },
        "id": "A3d9sKUCfOrv",
        "outputId": "f8d91084-2fe9-4d1a-eec8-1042cf22858b"
      },
      "outputs": [
        {
          "name": "stdout",
          "output_type": "stream",
          "text": [
            "Model: \"sequential\"\n",
            "_________________________________________________________________\n",
            " Layer (type)                Output Shape              Param #   \n",
            "=================================================================\n",
            " conv3d (Conv3D)             (None, 3, 120, 160, 32)   2624      \n",
            "                                                                 \n",
            " conv3d_1 (Conv3D)           (None, 3, 120, 160, 32)   8224      \n",
            "                                                                 \n",
            " batch_normalization (BatchN  (None, 3, 120, 160, 32)  128       \n",
            " ormalization)                                                   \n",
            "                                                                 \n",
            " max_pooling3d (MaxPooling3D  (None, 1, 60, 80, 32)    0         \n",
            " )                                                               \n",
            "                                                                 \n",
            " dropout (Dropout)           (None, 1, 60, 80, 32)     0         \n",
            "                                                                 \n",
            " flatten (Flatten)           (None, 153600)            0         \n",
            "                                                                 \n",
            " dense (Dense)               (None, 256)               39321856  \n",
            "                                                                 \n",
            " dense_1 (Dense)             (None, 5)                 1285      \n",
            "                                                                 \n",
            "=================================================================\n",
            "Total params: 39,334,117\n",
            "Trainable params: 39,334,053\n",
            "Non-trainable params: 64\n",
            "_________________________________________________________________\n",
            "None\n"
          ]
        }
      ],
      "source": [
        "model.compile(optimizer=tf.keras.optimizers.Adadelta(learning_rate=0.01),\n",
        "              loss=tf.keras.losses.categorical_crossentropy,\n",
        "              metrics=[tf.keras.metrics.CategoricalAccuracy()])\n",
        "print (model.summary())"
      ]
    },
    {
      "cell_type": "code",
      "execution_count": null,
      "metadata": {
        "id": "7J6NXYBHgtgm"
      },
      "outputs": [],
      "source": [
        "train_generator = generator(train_path, train_doc, batch_size,0)\n",
        "val_generator = generator(test_path, val_doc, batch_size,0)"
      ]
    },
    {
      "cell_type": "code",
      "execution_count": null,
      "metadata": {
        "id": "Zi3lJs4_fOtd"
      },
      "outputs": [],
      "source": [
        "if (num_train_sequences%batch_size) == 0:\n",
        "    steps_per_epoch = int(num_train_sequences/batch_size)\n",
        "else:\n",
        "    steps_per_epoch = (num_train_sequences//batch_size) + 1\n",
        "\n",
        "if (num_val_sequences%batch_size) == 0:\n",
        "    validation_steps = int(num_val_sequences/batch_size)\n",
        "else:\n",
        "    validation_steps = (num_val_sequences//batch_size) + 1"
      ]
    },
    {
      "cell_type": "code",
      "execution_count": null,
      "metadata": {
        "colab": {
          "base_uri": "https://localhost:8080/"
        },
        "id": "dfB1zE_LfOxi",
        "outputId": "df074b64-eaa8-4b2f-d0f8-154b64d1cebe"
      },
      "outputs": [
        {
          "name": "stdout",
          "output_type": "stream",
          "text": [
            "Source path =  /content/drive/MyDrive/Project_data/Project_data/train ; batch size = 3\n",
            "Epoch 1/12\n",
            "221/221 [==============================] - ETA: 0s - loss: 1.9247 - categorical_accuracy: 0.3363Source path =  /content/drive/MyDrive/Project_data/Project_data/val ; batch size = 3\n",
            "221/221 [==============================] - 825s 4s/step - loss: 1.9247 - categorical_accuracy: 0.3363 - val_loss: 1.5074 - val_categorical_accuracy: 0.3627\n",
            "Epoch 2/12\n",
            "221/221 [==============================] - 350s 2s/step - loss: 1.3479 - categorical_accuracy: 0.4796 - val_loss: 1.3138 - val_categorical_accuracy: 0.5294\n",
            "Epoch 3/12\n",
            "221/221 [==============================] - 347s 2s/step - loss: 1.0485 - categorical_accuracy: 0.6094 - val_loss: 1.2690 - val_categorical_accuracy: 0.4902\n",
            "Epoch 4/12\n",
            "221/221 [==============================] - 349s 2s/step - loss: 0.8422 - categorical_accuracy: 0.6817 - val_loss: 1.8635 - val_categorical_accuracy: 0.4118\n",
            "Epoch 5/12\n",
            "221/221 [==============================] - 367s 2s/step - loss: 0.6502 - categorical_accuracy: 0.7632 - val_loss: 1.3857 - val_categorical_accuracy: 0.5784\n",
            "Epoch 6/12\n",
            "221/221 [==============================] - 347s 2s/step - loss: 0.4932 - categorical_accuracy: 0.8220 - val_loss: 1.5844 - val_categorical_accuracy: 0.5294\n",
            "Epoch 7/12\n",
            "221/221 [==============================] - 348s 2s/step - loss: 0.3574 - categorical_accuracy: 0.8688 - val_loss: 1.1354 - val_categorical_accuracy: 0.5294\n",
            "Epoch 8/12\n",
            "221/221 [==============================] - 348s 2s/step - loss: 0.2788 - categorical_accuracy: 0.8989 - val_loss: 1.7074 - val_categorical_accuracy: 0.4608\n",
            "Epoch 9/12\n",
            "221/221 [==============================] - 347s 2s/step - loss: 0.2199 - categorical_accuracy: 0.9276 - val_loss: 1.3416 - val_categorical_accuracy: 0.4902\n",
            "Epoch 10/12\n",
            "221/221 [==============================] - 348s 2s/step - loss: 0.1819 - categorical_accuracy: 0.9367 - val_loss: 1.5439 - val_categorical_accuracy: 0.5392\n",
            "Epoch 11/12\n",
            "221/221 [==============================] - 376s 2s/step - loss: 0.1700 - categorical_accuracy: 0.9397 - val_loss: 1.5005 - val_categorical_accuracy: 0.4706\n",
            "Epoch 12/12\n",
            "221/221 [==============================] - 364s 2s/step - loss: 0.0955 - categorical_accuracy: 0.9744 - val_loss: 1.4084 - val_categorical_accuracy: 0.5490\n"
          ]
        }
      ],
      "source": [
        "history=model.fit(train_generator, steps_per_epoch=steps_per_epoch, epochs=num_epochs, verbose=1, \n",
        "                    validation_data=val_generator,\n",
        "                    validation_steps=validation_steps, class_weight=None, workers=1, initial_epoch=0)"
      ]
    },
    {
      "cell_type": "code",
      "execution_count": null,
      "metadata": {
        "colab": {
          "base_uri": "https://localhost:8080/",
          "height": 498
        },
        "id": "Ya3vZSzZfOzQ",
        "outputId": "b781c013-bb9e-4624-ee0e-6fe959fc12dd"
      },
      "outputs": [
        {
          "data": {
            "image/png": "[encoded data removed]",
            "text/plain": [
              "<Figure size 576x576 with 2 Axes>"
            ]
          },
          "metadata": {},
          "output_type": "display_data"
        }
      ],
      "source": [
        "plot_history(history)"
      ]
    },
    {
      "cell_type": "code",
      "execution_count": null,
      "metadata": {
        "id": "kQhtsdCOJJiT"
      },
      "outputs": [],
      "source": [
        "tf.keras.backend.clear_session()"
      ]
    },
    {
      "cell_type": "markdown",
      "metadata": {
        "id": "CtHxfz1Bi6KK"
      },
      "source": [
        "#Model 2\n",
        "Using random set of images from each folder every time.\n",
        "So model can utilise whole data\n",
        "To not train on same images again and again: using lesser number of epochs<20 \n",
        ": Fixed learning rate=0.01"
      ]
    },
    {
      "cell_type": "markdown",
      "metadata": {
        "id": "4NvkvH7hi_dr"
      },
      "source": [
        "HpyerParameters"
      ]
    },
    {
      "cell_type": "code",
      "execution_count": null,
      "metadata": {
        "colab": {
          "base_uri": "https://localhost:8080/"
        },
        "id": "Rs41YizsfO1-",
        "outputId": "5caaeda0-55ed-4fbc-a443-a5882adf2ef3"
      },
      "outputs": [
        {
          "name": "stdout",
          "output_type": "stream",
          "text": [
            "Batch_size= 3 \n",
            "   epochs = 12\n"
          ]
        }
      ],
      "source": [
        "batch_size = 3\n",
        "num_imges=3       #per_folder\n",
        "num_epochs=12\n",
        "input_shape=[num_imges,120,160,3]\n",
        "print (\"Batch_size=\",batch_size,\"\\n   epochs =\", num_epochs)"
      ]
    },
    {
      "cell_type": "code",
      "execution_count": null,
      "metadata": {
        "colab": {
          "base_uri": "https://localhost:8080/"
        },
        "id": "QXinimu5jFEK",
        "outputId": "d4211260-62be-423d-ea39-9f011556c9c0"
      },
      "outputs": [
        {
          "name": "stdout",
          "output_type": "stream",
          "text": [
            "Model: \"sequential\"\n",
            "_________________________________________________________________\n",
            " Layer (type)                Output Shape              Param #   \n",
            "=================================================================\n",
            " conv3d (Conv3D)             (None, 3, 120, 160, 32)   2624      \n",
            "                                                                 \n",
            " conv3d_1 (Conv3D)           (None, 3, 120, 160, 32)   8224      \n",
            "                                                                 \n",
            " batch_normalization (BatchN  (None, 3, 120, 160, 32)  128       \n",
            " ormalization)                                                   \n",
            "                                                                 \n",
            " max_pooling3d (MaxPooling3D  (None, 1, 60, 80, 32)    0         \n",
            " )                                                               \n",
            "                                                                 \n",
            " dropout (Dropout)           (None, 1, 60, 80, 32)     0         \n",
            "                                                                 \n",
            " flatten (Flatten)           (None, 153600)            0         \n",
            "                                                                 \n",
            " dense (Dense)               (None, 256)               39321856  \n",
            "                                                                 \n",
            " dense_1 (Dense)             (None, 5)                 1285      \n",
            "                                                                 \n",
            "=================================================================\n",
            "Total params: 39,334,117\n",
            "Trainable params: 39,334,053\n",
            "Non-trainable params: 64\n",
            "_________________________________________________________________\n",
            "None\n"
          ]
        }
      ],
      "source": [
        "model = Sequential()\n",
        "model.add(Conv3D(32, kernel_size=(3, 3, 3), activation='relu', input_shape=input_shape,padding=\"same\"))\n",
        "model.add(Conv3D(32, kernel_size=(2, 2, 2), activation='relu',padding=\"same\"))\n",
        "model.add(BatchNormalization())\n",
        "model.add(MaxPooling3D(pool_size=(2, 2, 2)))\n",
        "model.add(Dropout(0.35))\n",
        "model.add(Flatten())\n",
        "model.add(Dense(256, activation='relu'))\n",
        "model.add(Dense(5, activation='softmax') )\n",
        "\n",
        "model.compile(optimizer=tf.keras.optimizers.Adadelta(learning_rate=0.01),\n",
        "              loss=tf.keras.losses.categorical_crossentropy,\n",
        "              metrics=[tf.keras.metrics.CategoricalAccuracy()])\n",
        "print (model.summary())\n"
      ]
    },
    {
      "cell_type": "code",
      "execution_count": null,
      "metadata": {
        "id": "r6zfT75DjEv9"
      },
      "outputs": [],
      "source": [
        "train_generator = generator(train_path, train_doc, batch_size,1)\n",
        "val_generator = generator(test_path, val_doc, batch_size,1)"
      ]
    },
    {
      "cell_type": "code",
      "execution_count": null,
      "metadata": {
        "id": "twAGVVR3fO54"
      },
      "outputs": [],
      "source": [
        "if (num_train_sequences%batch_size) == 0:\n",
        "    steps_per_epoch = int(num_train_sequences/batch_size)\n",
        "else:\n",
        "    steps_per_epoch = (num_train_sequences//batch_size) + 1\n",
        "\n",
        "if (num_val_sequences%batch_size) == 0:\n",
        "    validation_steps = int(num_val_sequences/batch_size)\n",
        "else:\n",
        "    validation_steps = (num_val_sequences//batch_size) + 1"
      ]
    },
    {
      "cell_type": "code",
      "execution_count": null,
      "metadata": {
        "colab": {
          "base_uri": "https://localhost:8080/"
        },
        "id": "LVWhmz3LfO9k",
        "outputId": "6990b53f-5916-4da3-daad-c9d955a8ab12"
      },
      "outputs": [
        {
          "name": "stdout",
          "output_type": "stream",
          "text": [
            "Source path =  /content/drive/MyDrive/Project_data/Project_data/train ; batch size = 3\n",
            "Epoch 1/12\n",
            "221/221 [==============================] - ETA: 0s - loss: 1.9217 - categorical_accuracy: 0.3062Source path =  /content/drive/MyDrive/Project_data/Project_data/val ; batch size = 3\n",
            "221/221 [==============================] - 623s 3s/step - loss: 1.9217 - categorical_accuracy: 0.3062 - val_loss: 1.5170 - val_categorical_accuracy: 0.3235\n",
            "Epoch 2/12\n",
            "221/221 [==============================] - 354s 2s/step - loss: 1.2322 - categorical_accuracy: 0.5053 - val_loss: 1.4158 - val_categorical_accuracy: 0.3922\n",
            "Epoch 3/12\n",
            "221/221 [==============================] - 362s 2s/step - loss: 0.9247 - categorical_accuracy: 0.6606 - val_loss: 1.2735 - val_categorical_accuracy: 0.5098\n",
            "Epoch 4/12\n",
            "221/221 [==============================] - 361s 2s/step - loss: 0.7117 - categorical_accuracy: 0.7330 - val_loss: 1.2814 - val_categorical_accuracy: 0.5000\n",
            "Epoch 5/12\n",
            "221/221 [==============================] - 359s 2s/step - loss: 0.4953 - categorical_accuracy: 0.8265 - val_loss: 1.4996 - val_categorical_accuracy: 0.5196\n",
            "Epoch 6/12\n",
            "221/221 [==============================] - 357s 2s/step - loss: 0.3521 - categorical_accuracy: 0.8974 - val_loss: 1.0335 - val_categorical_accuracy: 0.6176\n",
            "Epoch 7/12\n",
            "221/221 [==============================] - 356s 2s/step - loss: 0.2637 - categorical_accuracy: 0.9155 - val_loss: 1.3037 - val_categorical_accuracy: 0.5294\n",
            "Epoch 8/12\n",
            "221/221 [==============================] - 362s 2s/step - loss: 0.1953 - categorical_accuracy: 0.9457 - val_loss: 1.8570 - val_categorical_accuracy: 0.4510\n",
            "Epoch 9/12\n",
            "221/221 [==============================] - 361s 2s/step - loss: 0.1418 - categorical_accuracy: 0.9578 - val_loss: 1.4949 - val_categorical_accuracy: 0.5392\n",
            "Epoch 10/12\n",
            "221/221 [==============================] - 360s 2s/step - loss: 0.0867 - categorical_accuracy: 0.9729 - val_loss: 1.4101 - val_categorical_accuracy: 0.5588\n",
            "Epoch 11/12\n",
            "221/221 [==============================] - 359s 2s/step - loss: 0.0784 - categorical_accuracy: 0.9804 - val_loss: 1.5995 - val_categorical_accuracy: 0.5392\n",
            "Epoch 12/12\n",
            "221/221 [==============================] - 356s 2s/step - loss: 0.0452 - categorical_accuracy: 0.9910 - val_loss: 1.6119 - val_categorical_accuracy: 0.5490\n"
          ]
        }
      ],
      "source": [
        "history=model.fit(train_generator, steps_per_epoch=steps_per_epoch, epochs=num_epochs, verbose=1, \n",
        "                    validation_data=val_generator,\n",
        "                    validation_steps=validation_steps, class_weight=None, workers=1, initial_epoch=0)"
      ]
    },
    {
      "cell_type": "code",
      "execution_count": null,
      "metadata": {
        "colab": {
          "base_uri": "https://localhost:8080/",
          "height": 498
        },
        "id": "l1An964wfO_y",
        "outputId": "2b7b508f-f550-4ac7-fae5-a1a320629184"
      },
      "outputs": [
        {
          "data": {
            "image/png": "[encoded data removed]",
            "text/plain": [
              "<Figure size 576x576 with 2 Axes>"
            ]
          },
          "metadata": {},
          "output_type": "display_data"
        }
      ],
      "source": [
        "plot_history(history)"
      ]
    },
    {
      "cell_type": "code",
      "execution_count": null,
      "metadata": {
        "id": "-ztDfa_kJMNp"
      },
      "outputs": [],
      "source": [
        "tf.keras.backend.clear_session()"
      ]
    },
    {
      "cell_type": "markdown",
      "metadata": {
        "id": "tUdimo_0oUiA"
      },
      "source": [
        "#Model 3\n",
        "Decay learning rate on val_loss (ReduceOnPlateau)\n"
      ]
    },
    {
      "cell_type": "markdown",
      "metadata": {
        "id": "kAMBYdEIoZGP"
      },
      "source": [
        "Hyper Parameters"
      ]
    },
    {
      "cell_type": "code",
      "execution_count": null,
      "metadata": {
        "colab": {
          "base_uri": "https://localhost:8080/"
        },
        "id": "YvxG3TIjoP38",
        "outputId": "ca0b70d9-fab3-48cf-da75-8e85985aa7f9"
      },
      "outputs": [
        {
          "output_type": "stream",
          "name": "stdout",
          "text": [
            "Batch_size= 3 \n",
            "   epochs = 12\n"
          ]
        }
      ],
      "source": [
        "batch_size = 3\n",
        "num_imges=3       #per_folder\n",
        "num_epochs=12\n",
        "input_shape=[num_imges,120,160,3]\n",
        "print (\"Batch_size=\",batch_size,\"\\n   epochs =\", num_epochs)"
      ]
    },
    {
      "cell_type": "code",
      "execution_count": null,
      "metadata": {
        "colab": {
          "base_uri": "https://localhost:8080/"
        },
        "id": "89QBtb3KoP39",
        "outputId": "625f46dc-a172-4904-8d4c-24b5b3b68b94"
      },
      "outputs": [
        {
          "output_type": "stream",
          "name": "stdout",
          "text": [
            "Model: \"sequential\"\n",
            "_________________________________________________________________\n",
            " Layer (type)                Output Shape              Param #   \n",
            "=================================================================\n",
            " conv3d (Conv3D)             (None, 3, 120, 160, 32)   2624      \n",
            "                                                                 \n",
            " conv3d_1 (Conv3D)           (None, 3, 120, 160, 32)   8224      \n",
            "                                                                 \n",
            " batch_normalization (BatchN  (None, 3, 120, 160, 32)  128       \n",
            " ormalization)                                                   \n",
            "                                                                 \n",
            " max_pooling3d (MaxPooling3D  (None, 1, 60, 80, 32)    0         \n",
            " )                                                               \n",
            "                                                                 \n",
            " dropout (Dropout)           (None, 1, 60, 80, 32)     0         \n",
            "                                                                 \n",
            " flatten (Flatten)           (None, 153600)            0         \n",
            "                                                                 \n",
            " dense (Dense)               (None, 256)               39321856  \n",
            "                                                                 \n",
            " dense_1 (Dense)             (None, 5)                 1285      \n",
            "                                                                 \n",
            "=================================================================\n",
            "Total params: 39,334,117\n",
            "Trainable params: 39,334,053\n",
            "Non-trainable params: 64\n",
            "_________________________________________________________________\n",
            "None\n"
          ]
        }
      ],
      "source": [
        "model = Sequential()\n",
        "model.add(Conv3D(32, kernel_size=(3, 3, 3), activation='relu', input_shape=input_shape,padding=\"same\"))\n",
        "model.add(Conv3D(32, kernel_size=(2, 2, 2), activation='relu',padding=\"same\"))\n",
        "model.add(BatchNormalization())\n",
        "model.add(MaxPooling3D(pool_size=(2, 2, 2)))\n",
        "model.add(Dropout(0.35))\n",
        "model.add(Flatten())\n",
        "model.add(Dense(256, activation='relu'))\n",
        "model.add(Dense(5, activation='softmax') )\n",
        "\n",
        "model.compile(optimizer=tf.keras.optimizers.Adadelta(learning_rate=0.01),\n",
        "              loss=tf.keras.losses.categorical_crossentropy,\n",
        "              metrics=[tf.keras.metrics.CategoricalAccuracy()])\n",
        "print (model.summary())\n"
      ]
    },
    {
      "cell_type": "code",
      "execution_count": null,
      "metadata": {
        "id": "pyEZREPPoP3_"
      },
      "outputs": [],
      "source": [
        "train_generator = generator(train_path, train_doc, batch_size,1)\n",
        "val_generator = generator(test_path, val_doc, batch_size,1)"
      ]
    },
    {
      "cell_type": "code",
      "execution_count": null,
      "metadata": {
        "id": "mIPvwCAboP4A"
      },
      "outputs": [],
      "source": [
        "if (num_train_sequences%batch_size) == 0:\n",
        "    steps_per_epoch = int(num_train_sequences/batch_size)\n",
        "else:\n",
        "    steps_per_epoch = (num_train_sequences//batch_size) + 1\n",
        "\n",
        "if (num_val_sequences%batch_size) == 0:\n",
        "    validation_steps = int(num_val_sequences/batch_size)\n",
        "else:\n",
        "    validation_steps = (num_val_sequences//batch_size) + 1"
      ]
    },
    {
      "cell_type": "code",
      "execution_count": null,
      "metadata": {
        "id": "4XKYb6o0oP4A"
      },
      "outputs": [],
      "source": [
        "LR = ReduceLROnPlateau(monitor='val_loss', factor=0.1,patience=1, min_lr=0.0001)\n",
        "callbacks_list = [LR]"
      ]
    },
    {
      "cell_type": "code",
      "execution_count": null,
      "metadata": {
        "colab": {
          "base_uri": "https://localhost:8080/"
        },
        "id": "bFv35u5VoP4B",
        "outputId": "813b239c-d660-4f97-cd6d-4c7da47fdf50"
      },
      "outputs": [
        {
          "output_type": "stream",
          "name": "stdout",
          "text": [
            "Source path =  /content/drive/MyDrive/Project_data/Project_data/train ; batch size = 3\n",
            "Epoch 1/12\n",
            "221/221 [==============================] - ETA: 0s - loss: 1.9259 - categorical_accuracy: 0.3107Source path =  /content/drive/MyDrive/Project_data/Project_data/val ; batch size = 3\n",
            "221/221 [==============================] - 791s 4s/step - loss: 1.9259 - categorical_accuracy: 0.3107 - val_loss: 1.5236 - val_categorical_accuracy: 0.3039 - lr: 0.0100\n",
            "Epoch 2/12\n",
            "221/221 [==============================] - 39s 175ms/step - loss: 1.2581 - categorical_accuracy: 0.5098 - val_loss: 1.3038 - val_categorical_accuracy: 0.4510 - lr: 0.0100\n",
            "Epoch 3/12\n",
            "221/221 [==============================] - 38s 173ms/step - loss: 0.9408 - categorical_accuracy: 0.6320 - val_loss: 1.3030 - val_categorical_accuracy: 0.5294 - lr: 0.0100\n",
            "Epoch 4/12\n",
            "221/221 [==============================] - 38s 173ms/step - loss: 0.7305 - categorical_accuracy: 0.7421 - val_loss: 1.3957 - val_categorical_accuracy: 0.4510 - lr: 0.0100\n",
            "Epoch 5/12\n",
            "221/221 [==============================] - 38s 173ms/step - loss: 0.3860 - categorical_accuracy: 0.8763 - val_loss: 1.1020 - val_categorical_accuracy: 0.5980 - lr: 1.0000e-03\n",
            "Epoch 6/12\n",
            "221/221 [==============================] - 38s 173ms/step - loss: 0.3231 - categorical_accuracy: 0.9020 - val_loss: 1.1258 - val_categorical_accuracy: 0.5588 - lr: 1.0000e-03\n",
            "Epoch 7/12\n",
            "221/221 [==============================] - 39s 175ms/step - loss: 0.3095 - categorical_accuracy: 0.9155 - val_loss: 1.0830 - val_categorical_accuracy: 0.5882 - lr: 1.0000e-04\n",
            "Epoch 8/12\n",
            "221/221 [==============================] - 39s 175ms/step - loss: 0.2929 - categorical_accuracy: 0.9216 - val_loss: 0.9713 - val_categorical_accuracy: 0.6078 - lr: 1.0000e-04\n",
            "Epoch 9/12\n",
            "221/221 [==============================] - 38s 174ms/step - loss: 0.3256 - categorical_accuracy: 0.9080 - val_loss: 1.1872 - val_categorical_accuracy: 0.5784 - lr: 1.0000e-04\n",
            "Epoch 10/12\n",
            "221/221 [==============================] - 38s 174ms/step - loss: 0.2913 - categorical_accuracy: 0.9155 - val_loss: 1.1947 - val_categorical_accuracy: 0.5392 - lr: 1.0000e-04\n",
            "Epoch 11/12\n",
            "221/221 [==============================] - 38s 173ms/step - loss: 0.2769 - categorical_accuracy: 0.9261 - val_loss: 1.0528 - val_categorical_accuracy: 0.6373 - lr: 1.0000e-04\n",
            "Epoch 12/12\n",
            "221/221 [==============================] - 38s 174ms/step - loss: 0.3059 - categorical_accuracy: 0.9095 - val_loss: 1.0776 - val_categorical_accuracy: 0.5784 - lr: 1.0000e-04\n"
          ]
        }
      ],
      "source": [
        "history=model.fit(train_generator, steps_per_epoch=steps_per_epoch, epochs=num_epochs, verbose=1, \n",
        "                    validation_data=val_generator, callbacks=callbacks_list,\n",
        "                    validation_steps=validation_steps, class_weight=None, workers=1, initial_epoch=0)"
      ]
    },
    {
      "cell_type": "code",
      "execution_count": null,
      "metadata": {
        "colab": {
          "base_uri": "https://localhost:8080/"
        },
        "id": "pyfjniktoP4C",
        "outputId": "4a622668-3fdf-41af-f5e1-f8d3370dbc7e"
      },
      "outputs": [
        {
          "output_type": "display_data",
          "data": {
            "image/png": "[encoded data removed]",
            "text/plain": [
              "<Figure size 576x576 with 2 Axes>"
            ]
          },
          "metadata": {
            "needs_background": "light"
          }
        }
      ],
      "source": [
        "plot_history(history)"
      ]
    },
    {
      "cell_type": "code",
      "source": [
        "#So far we have achieved hyper-parameters that make val_loss decrease and increase the accuracy"
      ],
      "metadata": {
        "id": "k0yITb5EArAx"
      },
      "execution_count": null,
      "outputs": []
    },
    {
      "cell_type": "code",
      "source": [
        "tf.keras.backend.clear_session()"
      ],
      "metadata": {
        "id": "kVm_0ue6xCoF"
      },
      "execution_count": null,
      "outputs": []
    },
    {
      "cell_type": "markdown",
      "metadata": {
        "id": "s1zwfik2xH4j"
      },
      "source": [
        "#Model 4\n",
        "###Increasing Batch size and regulaiser to control overfitting on given data"
      ]
    },
    {
      "cell_type": "code",
      "execution_count": null,
      "metadata": {
        "colab": {
          "base_uri": "https://localhost:8080/"
        },
        "outputId": "c3a5f7f6-3002-4d53-afb5-e11f9258045c",
        "id": "suyVd7-jxH4l"
      },
      "outputs": [
        {
          "output_type": "stream",
          "name": "stdout",
          "text": [
            "Batch_size= 13 \n",
            "   epochs = 12\n"
          ]
        }
      ],
      "source": [
        "#Hyper Parameters\n",
        "batch_size = 13\n",
        "num_imges=5       #increasing images per_folder\n",
        "num_epochs=12\n",
        "input_shape=[num_imges,120,160,3]\n",
        "print (\"Batch_size=\",batch_size,\"\\n   epochs =\", num_epochs)"
      ]
    },
    {
      "cell_type": "code",
      "execution_count": null,
      "metadata": {
        "id": "3uD_Zkf-xH4m"
      },
      "outputs": [],
      "source": [
        "#Training Model\n",
        "model = Sequential()\n",
        "model.add(Conv3D(64, kernel_size=(3, 3, 3), activation='relu', input_shape=input_shape,padding=\"same\",kernel_regularizer=regularizers.l2(l=0.01)))\n",
        "model.add(Conv3D(64, kernel_size=(2, 2, 2), activation='relu',padding=\"same\",kernel_regularizer=regularizers.l2(l=0.01)))\n",
        "model.add(BatchNormalization())\n",
        "model.add(MaxPooling3D(pool_size=(2, 2, 2)))\n",
        "model.add(Dropout(0.35))\n",
        "model.add(Flatten())\n",
        "model.add(Dense(256, activation='relu'))\n",
        "model.add(Dense(5, activation='softmax') )"
      ]
    },
    {
      "cell_type": "markdown",
      "metadata": {
        "id": "Lkm2qzqGxH4n"
      },
      "source": [
        "Now that you have written the model, the next step is to `compile` the model. When you print the `summary` of the model, you'll see the total number of parameters you have to train."
      ]
    },
    {
      "cell_type": "code",
      "execution_count": null,
      "metadata": {
        "colab": {
          "base_uri": "https://localhost:8080/"
        },
        "scrolled": true,
        "outputId": "a9784c7d-4b73-461c-f8a3-e46bdb928b44",
        "id": "33rlBJRJxH4o"
      },
      "outputs": [
        {
          "output_type": "stream",
          "name": "stdout",
          "text": [
            "Model: \"sequential_1\"\n",
            "_________________________________________________________________\n",
            " Layer (type)                Output Shape              Param #   \n",
            "=================================================================\n",
            " conv3d_2 (Conv3D)           (None, 5, 120, 160, 64)   5248      \n",
            "                                                                 \n",
            " conv3d_3 (Conv3D)           (None, 5, 120, 160, 64)   32832     \n",
            "                                                                 \n",
            " batch_normalization_1 (Batc  (None, 5, 120, 160, 64)  256       \n",
            " hNormalization)                                                 \n",
            "                                                                 \n",
            " max_pooling3d_1 (MaxPooling  (None, 2, 60, 80, 64)    0         \n",
            " 3D)                                                             \n",
            "                                                                 \n",
            " dropout_1 (Dropout)         (None, 2, 60, 80, 64)     0         \n",
            "                                                                 \n",
            " flatten_1 (Flatten)         (None, 614400)            0         \n",
            "                                                                 \n",
            " dense_2 (Dense)             (None, 256)               157286656 \n",
            "                                                                 \n",
            " dense_3 (Dense)             (None, 5)                 1285      \n",
            "                                                                 \n",
            "=================================================================\n",
            "Total params: 157,326,277\n",
            "Trainable params: 157,326,149\n",
            "Non-trainable params: 128\n",
            "_________________________________________________________________\n",
            "None\n"
          ]
        }
      ],
      "source": [
        "#Optimising Model with loss function and other metrics\n",
        "model.compile(optimizer=tf.keras.optimizers.Adadelta(learning_rate=0.1),\n",
        "              loss=tf.keras.losses.categorical_crossentropy,\n",
        "              metrics=[tf.keras.metrics.CategoricalAccuracy()])\n",
        "print (model.summary())"
      ]
    },
    {
      "cell_type": "markdown",
      "metadata": {
        "id": "-nBHzA0hxH4p"
      },
      "source": [
        "Let us create the `train_generator` and the `val_generator` which will be used in `.fit_generator`."
      ]
    },
    {
      "cell_type": "code",
      "execution_count": null,
      "metadata": {
        "id": "N9h9752wxH4p"
      },
      "outputs": [],
      "source": [
        "train_generator = generator(train_path, train_doc, batch_size,1)\n",
        "val_generator = generator(test_path, val_doc, batch_size,1)"
      ]
    },
    {
      "cell_type": "code",
      "execution_count": null,
      "metadata": {
        "id": "NLAA0XmYxH4q"
      },
      "outputs": [],
      "source": [
        "if (num_train_sequences%batch_size) == 0:\n",
        "    steps_per_epoch = int(num_train_sequences/batch_size)\n",
        "else:\n",
        "    steps_per_epoch = (num_train_sequences//batch_size) + 1\n",
        "\n",
        "if (num_val_sequences%batch_size) == 0:\n",
        "    validation_steps = int(num_val_sequences/batch_size)\n",
        "else:\n",
        "    validation_steps = (num_val_sequences//batch_size) + 1"
      ]
    },
    {
      "cell_type": "code",
      "execution_count": null,
      "metadata": {
        "id": "XoIHVzGjxH4q"
      },
      "outputs": [],
      "source": [
        "LR = ReduceLROnPlateau(monitor='val_loss', factor=0.1,patience=1, min_lr=0.0001)\n",
        "callbacks_list = [LR]"
      ]
    },
    {
      "cell_type": "code",
      "execution_count": null,
      "metadata": {
        "colab": {
          "base_uri": "https://localhost:8080/"
        },
        "id": "7deTOhmpxH4r",
        "outputId": "95f5205d-8cf5-4831-9e86-69368ed0a732"
      },
      "outputs": [
        {
          "output_type": "stream",
          "name": "stdout",
          "text": [
            "Source path =  /content/drive/MyDrive/Project_data/Project_data/train ; batch size = 13\n",
            "Epoch 1/12\n",
            "51/51 [==============================] - ETA: 0s - loss: 6.5800 - categorical_accuracy: 0.3318 Source path =  /content/drive/MyDrive/Project_data/Project_data/val ; batch size = 13\n",
            "51/51 [==============================] - 690s 14s/step - loss: 6.5800 - categorical_accuracy: 0.3318 - val_loss: 2.2430 - val_categorical_accuracy: 0.2885 - lr: 0.1000\n",
            "Epoch 2/12\n",
            "51/51 [==============================] - 43s 850ms/step - loss: 1.7229 - categorical_accuracy: 0.5732 - val_loss: 2.2265 - val_categorical_accuracy: 0.2404 - lr: 0.1000\n",
            "Epoch 3/12\n",
            "51/51 [==============================] - 34s 670ms/step - loss: 1.4582 - categorical_accuracy: 0.7029 - val_loss: 2.1362 - val_categorical_accuracy: 0.2981 - lr: 0.1000\n",
            "Epoch 4/12\n",
            "51/51 [==============================] - 34s 674ms/step - loss: 1.1013 - categorical_accuracy: 0.8281 - val_loss: 1.9950 - val_categorical_accuracy: 0.4135 - lr: 0.1000\n",
            "Epoch 5/12\n",
            "51/51 [==============================] - 34s 675ms/step - loss: 0.9769 - categorical_accuracy: 0.8839 - val_loss: 1.8209 - val_categorical_accuracy: 0.4904 - lr: 0.1000\n",
            "Epoch 6/12\n",
            "51/51 [==============================] - 35s 682ms/step - loss: 0.8397 - categorical_accuracy: 0.9367 - val_loss: 2.0582 - val_categorical_accuracy: 0.3173 - lr: 0.1000\n",
            "Epoch 7/12\n",
            "51/51 [==============================] - 34s 670ms/step - loss: 0.6826 - categorical_accuracy: 0.9759 - val_loss: 1.5758 - val_categorical_accuracy: 0.6442 - lr: 0.0100\n",
            "Epoch 8/12\n",
            "51/51 [==============================] - 34s 671ms/step - loss: 0.6498 - categorical_accuracy: 0.9879 - val_loss: 1.5603 - val_categorical_accuracy: 0.6346 - lr: 0.0100\n",
            "Epoch 9/12\n",
            "51/51 [==============================] - 34s 675ms/step - loss: 0.6376 - categorical_accuracy: 0.9925 - val_loss: 1.6067 - val_categorical_accuracy: 0.6346 - lr: 0.0100\n",
            "Epoch 10/12\n",
            "51/51 [==============================] - 35s 680ms/step - loss: 0.6264 - categorical_accuracy: 0.9985 - val_loss: 1.3814 - val_categorical_accuracy: 0.7212 - lr: 1.0000e-03\n",
            "Epoch 11/12\n",
            "51/51 [==============================] - 34s 670ms/step - loss: 0.6239 - categorical_accuracy: 0.9985 - val_loss: 1.5204 - val_categorical_accuracy: 0.6731 - lr: 1.0000e-03\n",
            "Epoch 12/12\n",
            "51/51 [==============================] - 34s 670ms/step - loss: 0.6244 - categorical_accuracy: 0.9970 - val_loss: 1.4813 - val_categorical_accuracy: 0.6731 - lr: 1.0000e-04\n"
          ]
        }
      ],
      "source": [
        "history1=model.fit(train_generator, steps_per_epoch=steps_per_epoch, epochs=num_epochs, verbose=1, \n",
        "                    validation_data=val_generator, callbacks=callbacks_list,\n",
        "                    validation_steps=validation_steps, class_weight=None, workers=1, initial_epoch=0)"
      ]
    },
    {
      "cell_type": "code",
      "execution_count": null,
      "metadata": {
        "colab": {
          "base_uri": "https://localhost:8080/",
          "height": 498
        },
        "id": "qCU5xryIxH4s",
        "outputId": "cb8d42bd-7e2a-44d5-f05e-3816dab99e4d"
      },
      "outputs": [
        {
          "output_type": "display_data",
          "data": {
            "image/png": "[encoded data removed]",
            "text/plain": [
              "<Figure size 576x576 with 2 Axes>"
            ]
          },
          "metadata": {
            "needs_background": "light"
          }
        }
      ],
      "source": [
        "#Visualising learning and loss over epoch\n",
        "epochs=num_epochs\n",
        "plot_history(history1) "
      ]
    },
    {
      "cell_type": "code",
      "execution_count": null,
      "metadata": {
        "id": "wXPHUmXsJQaY"
      },
      "outputs": [],
      "source": [
        "tf.keras.backend.clear_session()"
      ]
    },
    {
      "cell_type": "code",
      "source": [
        "#Though accuracy increased and loss is decreasing ,there is still overfitting in the model"
      ],
      "metadata": {
        "id": "LCSCWQUUDNxX"
      },
      "execution_count": null,
      "outputs": []
    },
    {
      "cell_type": "markdown",
      "metadata": {
        "id": "nOZzb-3-27X8"
      },
      "source": [
        "#Model 5\n",
        "###increasing images and layers in model\n",
        "###Decay learning rate along with regularisation"
      ]
    },
    {
      "cell_type": "code",
      "execution_count": null,
      "metadata": {
        "colab": {
          "base_uri": "https://localhost:8080/"
        },
        "outputId": "d7074e09-7a93-4ffa-f7fe-f4b0db101612",
        "id": "9RRiLA9I27YW"
      },
      "outputs": [
        {
          "output_type": "stream",
          "name": "stdout",
          "text": [
            "Batch_size= 17 \n",
            "   epochs = 12\n"
          ]
        }
      ],
      "source": [
        "#Hyper Parameters\n",
        "batch_size = 17\n",
        "num_imges=5       #per_folder\n",
        "num_epochs=12\n",
        "input_shape=[num_imges,120,160,3]\n",
        "print (\"Batch_size=\",batch_size,\"\\n   epochs =\", num_epochs)"
      ]
    },
    {
      "cell_type": "code",
      "execution_count": null,
      "metadata": {
        "id": "MKl7jsV727YX"
      },
      "outputs": [],
      "source": [
        "#Training Model\n",
        "model = Sequential()\n",
        "model.add(Conv3D(32, kernel_size=(3, 3, 3), activation='relu', input_shape=input_shape,padding=\"same\",kernel_regularizer=regularizers.l2(l=0.01)))\n",
        "model.add(Conv3D(64, kernel_size=(2, 2, 2), activation='relu',padding=\"same\",kernel_regularizer=regularizers.l2(l=0.01)))\n",
        "model.add(BatchNormalization())\n",
        "model.add(MaxPooling3D(pool_size=(2, 2, 2)))\n",
        "model.add(Dropout(0.25))\n",
        "model.add(Conv3D(128, kernel_size=(2, 2, 2), activation='relu',padding=\"same\"))\n",
        "model.add(MaxPooling3D(pool_size=(2, 2, 2),padding='same'))\n",
        "model.add(Dropout(0.4))\n",
        "model.add(Flatten())\n",
        "model.add(Dense(256, activation='relu'))\n",
        "model.add(Dense(5, activation='softmax') )"
      ]
    },
    {
      "cell_type": "markdown",
      "metadata": {
        "id": "UXMuJZKZ27YY"
      },
      "source": [
        "Now that you have written the model, the next step is to `compile` the model. When you print the `summary` of the model, you'll see the total number of parameters you have to train."
      ]
    },
    {
      "cell_type": "code",
      "execution_count": null,
      "metadata": {
        "colab": {
          "base_uri": "https://localhost:8080/"
        },
        "scrolled": true,
        "outputId": "4b5157c3-bac4-49ee-eb39-77802c8c7356",
        "id": "E4RVuD2r27YY"
      },
      "outputs": [
        {
          "output_type": "stream",
          "name": "stdout",
          "text": [
            "Model: \"sequential\"\n",
            "_________________________________________________________________\n",
            " Layer (type)                Output Shape              Param #   \n",
            "=================================================================\n",
            " conv3d (Conv3D)             (None, 5, 120, 160, 32)   2624      \n",
            "                                                                 \n",
            " conv3d_1 (Conv3D)           (None, 5, 120, 160, 64)   16448     \n",
            "                                                                 \n",
            " batch_normalization (BatchN  (None, 5, 120, 160, 64)  256       \n",
            " ormalization)                                                   \n",
            "                                                                 \n",
            " max_pooling3d (MaxPooling3D  (None, 2, 60, 80, 64)    0         \n",
            " )                                                               \n",
            "                                                                 \n",
            " dropout (Dropout)           (None, 2, 60, 80, 64)     0         \n",
            "                                                                 \n",
            " conv3d_2 (Conv3D)           (None, 2, 60, 80, 128)    65664     \n",
            "                                                                 \n",
            " max_pooling3d_1 (MaxPooling  (None, 1, 30, 40, 128)   0         \n",
            " 3D)                                                             \n",
            "                                                                 \n",
            " dropout_1 (Dropout)         (None, 1, 30, 40, 128)    0         \n",
            "                                                                 \n",
            " flatten (Flatten)           (None, 153600)            0         \n",
            "                                                                 \n",
            " dense (Dense)               (None, 256)               39321856  \n",
            "                                                                 \n",
            " dense_1 (Dense)             (None, 5)                 1285      \n",
            "                                                                 \n",
            "=================================================================\n",
            "Total params: 39,408,133\n",
            "Trainable params: 39,408,005\n",
            "Non-trainable params: 128\n",
            "_________________________________________________________________\n",
            "None\n"
          ]
        }
      ],
      "source": [
        "#Optimising Model with loss function and other metrics\n",
        "learning_rate_fn = tf.keras.optimizers.schedules.PolynomialDecay(\n",
        "    0.1, #starter_learning_rate,\n",
        "    700, #decay_steps,\n",
        "    0.00001,#end_learning_rate,\n",
        "    power=0.1) \n",
        "model.compile(optimizer=tf.keras.optimizers.Adadelta(learning_rate=learning_rate_fn),\n",
        "              loss=tf.keras.losses.categorical_crossentropy,\n",
        "              metrics=[tf.keras.metrics.CategoricalAccuracy()])\n",
        "print (model.summary())"
      ]
    },
    {
      "cell_type": "markdown",
      "metadata": {
        "id": "XhCcYFxP27YZ"
      },
      "source": [
        "Let us create the `train_generator` and the `val_generator` which will be used in `.fit_generator`."
      ]
    },
    {
      "cell_type": "code",
      "execution_count": null,
      "metadata": {
        "id": "_pQ8eic427YZ"
      },
      "outputs": [],
      "source": [
        "train_generator = generator(train_path, train_doc, batch_size,1)\n",
        "val_generator = generator(test_path, val_doc, batch_size,1)"
      ]
    },
    {
      "cell_type": "code",
      "execution_count": null,
      "metadata": {
        "id": "Hfk3sBeA27Ya"
      },
      "outputs": [],
      "source": [
        "if (num_train_sequences%batch_size) == 0:\n",
        "    steps_per_epoch = int(num_train_sequences/batch_size)\n",
        "else:\n",
        "    steps_per_epoch = (num_train_sequences//batch_size) + 1\n",
        "\n",
        "if (num_val_sequences%batch_size) == 0:\n",
        "    validation_steps = int(num_val_sequences/batch_size)\n",
        "else:\n",
        "    validation_steps = (num_val_sequences//batch_size) + 1"
      ]
    },
    {
      "cell_type": "code",
      "execution_count": null,
      "metadata": {
        "id": "GoFOk1T427Ya"
      },
      "outputs": [],
      "source": [
        "LR = ReduceLROnPlateau(monitor='val_loss', factor=0.2,patience=1, min_lr=0.0001)\n",
        "callbacks_list = [LR]"
      ]
    },
    {
      "cell_type": "code",
      "execution_count": null,
      "metadata": {
        "colab": {
          "base_uri": "https://localhost:8080/"
        },
        "id": "4yMwBp0y27Ya",
        "outputId": "c72e8596-2f21-4ba2-c011-dea04dde52ee"
      },
      "outputs": [
        {
          "output_type": "stream",
          "name": "stdout",
          "text": [
            "Source path =  /content/drive/MyDrive/Project_data/Project_data/train ; batch size = 17\n",
            "Epoch 1/12\n",
            "39/39 [==============================] - ETA: 0s - loss: 5.8853 - categorical_accuracy: 0.2308 Source path =  /content/drive/MyDrive/Project_data/Project_data/val ; batch size = 17\n",
            "39/39 [==============================] - 618s 16s/step - loss: 5.8853 - categorical_accuracy: 0.2308 - val_loss: 2.0790 - val_categorical_accuracy: 0.2451\n",
            "Epoch 2/12\n",
            "39/39 [==============================] - 31s 808ms/step - loss: 2.1392 - categorical_accuracy: 0.3002 - val_loss: 2.0879 - val_categorical_accuracy: 0.1569\n",
            "Epoch 3/12\n",
            "39/39 [==============================] - 27s 693ms/step - loss: 1.8833 - categorical_accuracy: 0.4042 - val_loss: 2.0386 - val_categorical_accuracy: 0.2941\n",
            "Epoch 4/12\n",
            "39/39 [==============================] - 27s 697ms/step - loss: 1.8045 - categorical_accuracy: 0.4630 - val_loss: 2.0225 - val_categorical_accuracy: 0.1961\n",
            "Epoch 5/12\n",
            "39/39 [==============================] - 27s 687ms/step - loss: 1.6704 - categorical_accuracy: 0.5113 - val_loss: 2.0093 - val_categorical_accuracy: 0.2941\n",
            "Epoch 6/12\n",
            "39/39 [==============================] - 27s 694ms/step - loss: 1.5656 - categorical_accuracy: 0.5596 - val_loss: 1.9301 - val_categorical_accuracy: 0.4902\n",
            "Epoch 7/12\n",
            "39/39 [==============================] - 27s 693ms/step - loss: 1.5181 - categorical_accuracy: 0.5732 - val_loss: 1.9069 - val_categorical_accuracy: 0.4412\n",
            "Epoch 8/12\n",
            "39/39 [==============================] - 27s 687ms/step - loss: 1.3108 - categorical_accuracy: 0.6637 - val_loss: 1.8306 - val_categorical_accuracy: 0.5392\n",
            "Epoch 9/12\n",
            "39/39 [==============================] - 27s 687ms/step - loss: 1.2217 - categorical_accuracy: 0.6938 - val_loss: 1.7170 - val_categorical_accuracy: 0.5392\n",
            "Epoch 10/12\n",
            "39/39 [==============================] - 27s 686ms/step - loss: 1.1410 - categorical_accuracy: 0.7300 - val_loss: 1.6746 - val_categorical_accuracy: 0.5196\n",
            "Epoch 11/12\n",
            "39/39 [==============================] - 27s 693ms/step - loss: 1.0160 - categorical_accuracy: 0.7662 - val_loss: 1.6123 - val_categorical_accuracy: 0.5000\n",
            "Epoch 12/12\n",
            "39/39 [==============================] - 27s 688ms/step - loss: 0.9312 - categorical_accuracy: 0.8069 - val_loss: 1.5699 - val_categorical_accuracy: 0.5686\n"
          ]
        }
      ],
      "source": [
        "history2=model.fit(train_generator, steps_per_epoch=steps_per_epoch, epochs=num_epochs, verbose=1, \n",
        "                    validation_data=val_generator,#callbacks=callbacks_list,\n",
        "                    validation_steps=validation_steps, class_weight=None, workers=1, initial_epoch=0)"
      ]
    },
    {
      "cell_type": "code",
      "execution_count": null,
      "metadata": {
        "colab": {
          "base_uri": "https://localhost:8080/",
          "height": 498
        },
        "id": "gaUtx03027Yb",
        "outputId": "fc5bcc7d-6f3e-497d-f25b-155ceeea366b"
      },
      "outputs": [
        {
          "output_type": "display_data",
          "data": {
            "image/png": "[encoded data removed]",
            "text/plain": [
              "<Figure size 576x576 with 2 Axes>"
            ]
          },
          "metadata": {
            "needs_background": "light"
          }
        }
      ],
      "source": [
        "#Visualising learning and loss over epoch\n",
        "epochs=num_epochs\n",
        "plot_history(history2) "
      ]
    },
    {
      "cell_type": "code",
      "execution_count": null,
      "metadata": {
        "id": "_zDBwLxN27Yb"
      },
      "outputs": [],
      "source": [
        "tf.keras.backend.clear_session()"
      ]
    },
    {
      "cell_type": "markdown",
      "source": [
        "Increasing the data and batch size improved the result.\n",
        "Now increasing the information to learn by adding layer and adjusting filter size"
      ],
      "metadata": {
        "id": "k99-duxVPxdH"
      }
    },
    {
      "cell_type": "markdown",
      "metadata": {
        "id": "GPoOQBQ53nvr"
      },
      "source": [
        "#Model 6\n",
        "###increasing images and layers in model"
      ]
    },
    {
      "cell_type": "code",
      "execution_count": 10,
      "metadata": {
        "colab": {
          "base_uri": "https://localhost:8080/"
        },
        "outputId": "4b602c94-9bb3-4224-82ff-eadd314be4a2",
        "id": "ymMFFFo73nvt"
      },
      "outputs": [
        {
          "output_type": "stream",
          "name": "stdout",
          "text": [
            "Batch_size= 13 \n",
            "   epochs = 20\n"
          ]
        }
      ],
      "source": [
        "#Hyper Parameters\n",
        "batch_size = 13\n",
        "num_imges=5\n",
        "num_epochs=20\n",
        "input_shape=[num_imges,120,160,3]\n",
        "print (\"Batch_size=\",batch_size,\"\\n   epochs =\", num_epochs)"
      ]
    },
    {
      "cell_type": "code",
      "execution_count": 11,
      "metadata": {
        "id": "vis2w9Lx3nvv"
      },
      "outputs": [],
      "source": [
        "#Training Model\n",
        "model = Sequential()\n",
        "model.add(Conv3D(32, kernel_size=(3, 3, 3), activation='relu', input_shape=input_shape,padding=\"same\",kernel_regularizer=regularizers.l2(l=0.01)))\n",
        "model.add(Conv3D(64, kernel_size=(2, 2, 2), activation='relu',padding=\"same\",kernel_regularizer=regularizers.l2(l=0.01)))\n",
        "model.add(BatchNormalization())\n",
        "model.add(MaxPooling3D(pool_size=(2, 2, 2)))\n",
        "model.add(Dropout(0.25))\n",
        "\n",
        "model.add(Conv3D(128, kernel_size=(2, 2, 2), activation='relu',padding=\"same\"))\n",
        "model.add(MaxPooling3D(pool_size=(2, 2, 2),padding='same'))\n",
        "model.add(Dropout(0.4))\n",
        "model.add(Flatten())\n",
        "model.add(Dense(256, activation='relu'))\n",
        "model.add(Dense(5, activation='softmax') )"
      ]
    },
    {
      "cell_type": "markdown",
      "metadata": {
        "id": "phlKXZf33nvx"
      },
      "source": [
        "Now that you have written the model, the next step is to `compile` the model. When you print the `summary` of the model, you'll see the total number of parameters you have to train."
      ]
    },
    {
      "cell_type": "code",
      "execution_count": 12,
      "metadata": {
        "colab": {
          "base_uri": "https://localhost:8080/"
        },
        "scrolled": true,
        "outputId": "1da3772c-0973-41c6-8245-36fe4f9f63bf",
        "id": "QJ0A7R-93nvx"
      },
      "outputs": [
        {
          "output_type": "stream",
          "name": "stdout",
          "text": [
            "Model: \"sequential\"\n",
            "_________________________________________________________________\n",
            " Layer (type)                Output Shape              Param #   \n",
            "=================================================================\n",
            " conv3d (Conv3D)             (None, 5, 120, 160, 32)   2624      \n",
            "                                                                 \n",
            " conv3d_1 (Conv3D)           (None, 5, 120, 160, 64)   16448     \n",
            "                                                                 \n",
            " batch_normalization (BatchN  (None, 5, 120, 160, 64)  256       \n",
            " ormalization)                                                   \n",
            "                                                                 \n",
            " max_pooling3d (MaxPooling3D  (None, 2, 60, 80, 64)    0         \n",
            " )                                                               \n",
            "                                                                 \n",
            " dropout (Dropout)           (None, 2, 60, 80, 64)     0         \n",
            "                                                                 \n",
            " conv3d_2 (Conv3D)           (None, 2, 60, 80, 128)    65664     \n",
            "                                                                 \n",
            " max_pooling3d_1 (MaxPooling  (None, 1, 30, 40, 128)   0         \n",
            " 3D)                                                             \n",
            "                                                                 \n",
            " dropout_1 (Dropout)         (None, 1, 30, 40, 128)    0         \n",
            "                                                                 \n",
            " flatten (Flatten)           (None, 153600)            0         \n",
            "                                                                 \n",
            " dense (Dense)               (None, 256)               39321856  \n",
            "                                                                 \n",
            " dense_1 (Dense)             (None, 5)                 1285      \n",
            "                                                                 \n",
            "=================================================================\n",
            "Total params: 39,408,133\n",
            "Trainable params: 39,408,005\n",
            "Non-trainable params: 128\n",
            "_________________________________________________________________\n",
            "None\n"
          ]
        }
      ],
      "source": [
        "#Optimising Model with loss function and other metrics \n",
        "model.compile(optimizer=tf.keras.optimizers.Adadelta(learning_rate=0.1),\n",
        "              loss=tf.keras.losses.categorical_crossentropy,\n",
        "              metrics=[tf.keras.metrics.CategoricalAccuracy()])\n",
        "print (model.summary())"
      ]
    },
    {
      "cell_type": "markdown",
      "metadata": {
        "id": "TBTXB_HB3nvz"
      },
      "source": [
        "creating the `train_generator` and the `val_generator` "
      ]
    },
    {
      "cell_type": "code",
      "execution_count": 13,
      "metadata": {
        "id": "sRI9WWXv3nvz"
      },
      "outputs": [],
      "source": [
        "train_generator = generator(train_path, train_doc, batch_size,1)\n",
        "val_generator = generator(test_path, val_doc, batch_size,1)"
      ]
    },
    {
      "cell_type": "code",
      "execution_count": 14,
      "metadata": {
        "id": "mjk5xLEy3nv0"
      },
      "outputs": [],
      "source": [
        "if (num_train_sequences%batch_size) == 0:\n",
        "    steps_per_epoch = int(num_train_sequences/batch_size)\n",
        "else:\n",
        "    steps_per_epoch = (num_train_sequences//batch_size) + 1\n",
        "\n",
        "if (num_val_sequences%batch_size) == 0:\n",
        "    validation_steps = int(num_val_sequences/batch_size)\n",
        "else:\n",
        "    validation_steps = (num_val_sequences//batch_size) + 1"
      ]
    },
    {
      "cell_type": "code",
      "execution_count": 15,
      "metadata": {
        "id": "JMvOjYjO3nv1"
      },
      "outputs": [],
      "source": [
        "LR = ReduceLROnPlateau(monitor='val_loss', factor=0.1,patience=1, min_lr=0.0001)\n",
        "callbacks_list = [LR]"
      ]
    },
    {
      "cell_type": "code",
      "execution_count": 16,
      "metadata": {
        "colab": {
          "base_uri": "https://localhost:8080/"
        },
        "id": "XdS4jK7W3nv1",
        "outputId": "79f6c2e2-4caa-4e71-9670-bab89356b539"
      },
      "outputs": [
        {
          "output_type": "stream",
          "name": "stdout",
          "text": [
            "Source path =  /content/drive/MyDrive/Project_data/Project_data/train ; batch size = 13\n",
            "Epoch 1/20\n",
            "51/51 [==============================] - ETA: 0s - loss: 5.0302 - categorical_accuracy: 0.2640 Source path =  /content/drive/MyDrive/Project_data/Project_data/val ; batch size = 13\n",
            "51/51 [==============================] - 1254s 25s/step - loss: 5.0302 - categorical_accuracy: 0.2640 - val_loss: 2.0738 - val_categorical_accuracy: 0.1538 - lr: 0.1000\n",
            "Epoch 2/20\n",
            "51/51 [==============================] - 29s 576ms/step - loss: 2.0257 - categorical_accuracy: 0.2640 - val_loss: 2.0416 - val_categorical_accuracy: 0.3750 - lr: 0.1000\n",
            "Epoch 3/20\n",
            "51/51 [==============================] - 22s 428ms/step - loss: 1.9257 - categorical_accuracy: 0.3394 - val_loss: 1.9984 - val_categorical_accuracy: 0.2981 - lr: 0.1000\n",
            "Epoch 4/20\n",
            "51/51 [==============================] - 21s 415ms/step - loss: 1.8143 - categorical_accuracy: 0.3922 - val_loss: 1.9599 - val_categorical_accuracy: 0.2981 - lr: 0.1000\n",
            "Epoch 5/20\n",
            "51/51 [==============================] - 21s 415ms/step - loss: 1.7308 - categorical_accuracy: 0.4585 - val_loss: 1.9297 - val_categorical_accuracy: 0.3365 - lr: 0.1000\n",
            "Epoch 6/20\n",
            "51/51 [==============================] - 21s 416ms/step - loss: 1.5690 - categorical_accuracy: 0.5385 - val_loss: 1.8122 - val_categorical_accuracy: 0.3942 - lr: 0.1000\n",
            "Epoch 7/20\n",
            "51/51 [==============================] - 21s 416ms/step - loss: 1.4652 - categorical_accuracy: 0.5701 - val_loss: 1.7250 - val_categorical_accuracy: 0.4712 - lr: 0.1000\n",
            "Epoch 8/20\n",
            "51/51 [==============================] - 21s 415ms/step - loss: 1.3442 - categorical_accuracy: 0.6320 - val_loss: 1.6596 - val_categorical_accuracy: 0.4231 - lr: 0.1000\n",
            "Epoch 9/20\n",
            "51/51 [==============================] - 21s 416ms/step - loss: 1.2318 - categorical_accuracy: 0.6410 - val_loss: 1.4879 - val_categorical_accuracy: 0.6154 - lr: 0.1000\n",
            "Epoch 10/20\n",
            "51/51 [==============================] - 21s 413ms/step - loss: 1.1099 - categorical_accuracy: 0.6983 - val_loss: 1.4315 - val_categorical_accuracy: 0.5962 - lr: 0.1000\n",
            "Epoch 11/20\n",
            "51/51 [==============================] - 21s 416ms/step - loss: 0.9627 - categorical_accuracy: 0.7738 - val_loss: 1.3365 - val_categorical_accuracy: 0.6538 - lr: 0.1000\n",
            "Epoch 12/20\n",
            "51/51 [==============================] - 21s 420ms/step - loss: 0.9256 - categorical_accuracy: 0.7768 - val_loss: 1.3642 - val_categorical_accuracy: 0.5577 - lr: 0.1000\n",
            "Epoch 13/20\n",
            "51/51 [==============================] - 21s 417ms/step - loss: 0.7365 - categorical_accuracy: 0.8733 - val_loss: 1.2079 - val_categorical_accuracy: 0.6538 - lr: 0.0100\n",
            "Epoch 14/20\n",
            "51/51 [==============================] - 21s 419ms/step - loss: 0.6992 - categorical_accuracy: 0.8778 - val_loss: 1.1893 - val_categorical_accuracy: 0.6442 - lr: 0.0100\n",
            "Epoch 15/20\n",
            "51/51 [==============================] - 21s 418ms/step - loss: 0.7046 - categorical_accuracy: 0.8718 - val_loss: 1.1935 - val_categorical_accuracy: 0.6250 - lr: 0.0100\n",
            "Epoch 16/20\n",
            "51/51 [==============================] - 22s 429ms/step - loss: 0.6884 - categorical_accuracy: 0.8839 - val_loss: 1.0505 - val_categorical_accuracy: 0.6731 - lr: 1.0000e-03\n",
            "Epoch 17/20\n",
            "51/51 [==============================] - 21s 415ms/step - loss: 0.6935 - categorical_accuracy: 0.8839 - val_loss: 1.3042 - val_categorical_accuracy: 0.6346 - lr: 1.0000e-03\n",
            "Epoch 18/20\n",
            "51/51 [==============================] - 21s 415ms/step - loss: 0.6792 - categorical_accuracy: 0.8914 - val_loss: 1.1420 - val_categorical_accuracy: 0.6923 - lr: 1.0000e-04\n",
            "Epoch 19/20\n",
            "51/51 [==============================] - 21s 412ms/step - loss: 0.6844 - categorical_accuracy: 0.8929 - val_loss: 1.1623 - val_categorical_accuracy: 0.6635 - lr: 1.0000e-04\n",
            "Epoch 20/20\n",
            "51/51 [==============================] - 21s 414ms/step - loss: 0.6691 - categorical_accuracy: 0.8914 - val_loss: 1.1760 - val_categorical_accuracy: 0.6827 - lr: 1.0000e-04\n"
          ]
        }
      ],
      "source": [
        "history2=model.fit(train_generator, steps_per_epoch=steps_per_epoch, epochs=num_epochs, verbose=1, \n",
        "                    validation_data=val_generator, callbacks=callbacks_list,\n",
        "                    validation_steps=validation_steps, class_weight=None, workers=1, initial_epoch=0)"
      ]
    },
    {
      "cell_type": "code",
      "execution_count": 17,
      "metadata": {
        "id": "oPIL6P2B3nv2",
        "colab": {
          "base_uri": "https://localhost:8080/",
          "height": 499
        },
        "outputId": "94dad15b-b647-4b57-b151-0a1362ffa82f"
      },
      "outputs": [
        {
          "output_type": "display_data",
          "data": {
            "text/plain": [
              "<Figure size 576x576 with 2 Axes>"
            ],
            "image/png": "[encoded data removed]"
          },
          "metadata": {
            "needs_background": "light"
          }
        }
      ],
      "source": [
        "#Visualising learning and loss over epoch\n",
        "epochs=num_epochs\n",
        "plot_history(history2) "
      ]
    },
    {
      "cell_type": "code",
      "execution_count": 18,
      "metadata": {
        "id": "Q7yk4-ey3nv3"
      },
      "outputs": [],
      "source": [
        "tf.keras.backend.clear_session()"
      ]
    },
    {
      "cell_type": "markdown",
      "source": [
        ""
      ],
      "metadata": {
        "id": "vFmwVOCHKWMa"
      }
    },
    {
      "cell_type": "markdown",
      "metadata": {
        "id": "frw49r56GCUX"
      },
      "source": [
        "# Model 7\n",
        "Smaller batch size and with polynomial decay in learning rate gave the best result in several combination of Conv3D we tried\n"
      ]
    },
    {
      "cell_type": "code",
      "source": [
        "#Hyper Parameters\n",
        "batch_size = 3\n",
        "num_imges=5\n",
        "num_epochs=20\n",
        "input_shape=[num_imges,120,160,3]"
      ],
      "metadata": {
        "id": "skqG0jPeGZcd"
      },
      "execution_count": null,
      "outputs": []
    },
    {
      "cell_type": "code",
      "execution_count": null,
      "metadata": {
        "id": "xJnTHrd9qHS0"
      },
      "outputs": [],
      "source": [
        "#Creating Model\n",
        "model = Sequential()\n",
        "\n",
        "model.add(Conv3D(32, kernel_size=(3, 3, 3), activation='relu', input_shape=input_shape,padding=\"same\",kernel_regularizer=regularizers.l2(l=0.01)))\n",
        "model.add(Conv3D(64, kernel_size=(2, 2, 2), activation='relu',padding=\"same\",kernel_regularizer=regularizers.l2(l=0.01)))\n",
        "model.add(BatchNormalization())\n",
        "model.add(MaxPooling3D(pool_size=(2, 2, 2)))\n",
        "model.add(Dropout(0.25))\n",
        "\n",
        "model.add(Conv3D(128, kernel_size=(2, 2, 2), activation='relu',padding=\"same\"))\n",
        "model.add(MaxPooling3D(pool_size=(2, 2, 2),padding='same'))\n",
        "model.add(Dropout(0.4))\n",
        "model.add(Flatten())\n",
        "model.add(Dense(256, activation='relu'))\n",
        "model.add(Dense(5, activation='softmax') )"
      ]
    },
    {
      "cell_type": "markdown",
      "metadata": {
        "id": "2FnTcGsXqHS0"
      },
      "source": [
        "Now that you have written the model, the next step is to `compile` the model. When you print the `summary` of the model, you'll see the total number of parameters you have to train."
      ]
    },
    {
      "cell_type": "code",
      "execution_count": null,
      "metadata": {
        "colab": {
          "base_uri": "https://localhost:8080/"
        },
        "id": "8NXbvq1fqHS0",
        "outputId": "4b8fbd03-9177-4e78-f808-3fca5f473c30",
        "scrolled": true
      },
      "outputs": [
        {
          "output_type": "stream",
          "name": "stdout",
          "text": [
            "Model: \"sequential_1\"\n",
            "_________________________________________________________________\n",
            " Layer (type)                Output Shape              Param #   \n",
            "=================================================================\n",
            " conv3d_3 (Conv3D)           (None, 3, 120, 160, 32)   2624      \n",
            "                                                                 \n",
            " conv3d_4 (Conv3D)           (None, 3, 120, 160, 64)   16448     \n",
            "                                                                 \n",
            " batch_normalization_1 (Batc  (None, 3, 120, 160, 64)  256       \n",
            " hNormalization)                                                 \n",
            "                                                                 \n",
            " max_pooling3d_2 (MaxPooling  (None, 1, 60, 80, 64)    0         \n",
            " 3D)                                                             \n",
            "                                                                 \n",
            " dropout_2 (Dropout)         (None, 1, 60, 80, 64)     0         \n",
            "                                                                 \n",
            " conv3d_5 (Conv3D)           (None, 1, 60, 80, 128)    65664     \n",
            "                                                                 \n",
            " max_pooling3d_3 (MaxPooling  (None, 1, 30, 40, 128)   0         \n",
            " 3D)                                                             \n",
            "                                                                 \n",
            " dropout_3 (Dropout)         (None, 1, 30, 40, 128)    0         \n",
            "                                                                 \n",
            " flatten_1 (Flatten)         (None, 153600)            0         \n",
            "                                                                 \n",
            " dense_2 (Dense)             (None, 256)               39321856  \n",
            "                                                                 \n",
            " dense_3 (Dense)             (None, 5)                 1285      \n",
            "                                                                 \n",
            "=================================================================\n",
            "Total params: 39,408,133\n",
            "Trainable params: 39,408,005\n",
            "Non-trainable params: 128\n",
            "_________________________________________________________________\n",
            "None\n"
          ]
        }
      ],
      "source": [
        "#Optimising model\n",
        "learning_rate_fn = tf.keras.optimizers.schedules.PolynomialDecay(\n",
        "    0.1, #starter_learning_rate,\n",
        "    1200, #decay_steps,\n",
        "    0.00001,#end_learning_rate,\n",
        "    power=0.1) \n",
        "model.compile(optimizer=tf.keras.optimizers.Adadelta(learning_rate=learning_rate_fn),\n",
        "              loss=tf.keras.losses.categorical_crossentropy,\n",
        "              metrics=[tf.keras.metrics.CategoricalAccuracy()])\n",
        "print (model.summary())"
      ]
    },
    {
      "cell_type": "markdown",
      "metadata": {
        "id": "100D37pLqHS0"
      },
      "source": [
        "Let us create the `train_generator` and the `val_generator` which will be used in `.fit_generator`."
      ]
    },
    {
      "cell_type": "code",
      "execution_count": null,
      "metadata": {
        "id": "DCqTKL__qHS0"
      },
      "outputs": [],
      "source": [
        "train_generator = generator(train_path, train_doc, batch_size)\n",
        "val_generator = generator(test_path, val_doc, batch_size)"
      ]
    },
    {
      "cell_type": "code",
      "execution_count": null,
      "metadata": {
        "id": "HZbglNud5scp"
      },
      "outputs": [],
      "source": [
        "os.environ['TF_FORCE_GPU_ALLOW_GROWTH'] = 'true'"
      ]
    },
    {
      "cell_type": "code",
      "execution_count": null,
      "metadata": {
        "id": "i1obmXgwqHS0"
      },
      "outputs": [],
      "source": [
        "if (num_train_sequences%batch_size) == 0:\n",
        "    steps_per_epoch = int(num_train_sequences/batch_size)\n",
        "else:\n",
        "    steps_per_epoch = (num_train_sequences//batch_size) + 1\n",
        "\n",
        "if (num_val_sequences%batch_size) == 0:\n",
        "    validation_steps = int(num_val_sequences/batch_size)\n",
        "else:\n",
        "    validation_steps = (num_val_sequences//batch_size) + 1"
      ]
    },
    {
      "cell_type": "code",
      "execution_count": null,
      "metadata": {
        "colab": {
          "base_uri": "https://localhost:8080/"
        },
        "id": "pl9eaS0kqHS0",
        "outputId": "1512559f-bb7e-4741-b2fe-9a62685f2cd7"
      },
      "outputs": [
        {
          "output_type": "stream",
          "name": "stdout",
          "text": [
            "Source path =  /content/drive/MyDrive/Project_data/Project_data/train ; batch size = 3\n",
            "Epoch 1/20\n",
            "221/221 [==============================] - ETA: 0s - loss: 2.4714 - categorical_accuracy: 0.2805Source path =  /content/drive/MyDrive/Project_data/Project_data/val ; batch size = 3\n",
            "221/221 [==============================] - 874s 4s/step - loss: 2.4714 - categorical_accuracy: 0.2805 - val_loss: 1.9667 - val_categorical_accuracy: 0.3627\n",
            "Epoch 2/20\n",
            "221/221 [==============================] - 39s 179ms/step - loss: 1.6743 - categorical_accuracy: 0.4676 - val_loss: 1.7127 - val_categorical_accuracy: 0.5882\n",
            "Epoch 3/20\n",
            "221/221 [==============================] - 38s 173ms/step - loss: 1.3412 - categorical_accuracy: 0.6033 - val_loss: 1.3905 - val_categorical_accuracy: 0.6765\n",
            "Epoch 4/20\n",
            "221/221 [==============================] - 38s 173ms/step - loss: 1.0219 - categorical_accuracy: 0.7496 - val_loss: 1.3668 - val_categorical_accuracy: 0.5980\n",
            "Epoch 5/20\n",
            "221/221 [==============================] - 38s 173ms/step - loss: 0.9875 - categorical_accuracy: 0.7768 - val_loss: 1.2507 - val_categorical_accuracy: 0.7255\n",
            "Epoch 6/20\n",
            "221/221 [==============================] - 38s 173ms/step - loss: 0.9800 - categorical_accuracy: 0.7873 - val_loss: 1.2588 - val_categorical_accuracy: 0.7059\n",
            "Epoch 7/20\n",
            "221/221 [==============================] - 38s 173ms/step - loss: 0.9820 - categorical_accuracy: 0.7888 - val_loss: 1.2452 - val_categorical_accuracy: 0.6667\n",
            "Epoch 8/20\n",
            "221/221 [==============================] - 38s 173ms/step - loss: 0.9742 - categorical_accuracy: 0.7783 - val_loss: 1.3138 - val_categorical_accuracy: 0.6569\n",
            "Epoch 9/20\n",
            "221/221 [==============================] - 38s 173ms/step - loss: 0.9829 - categorical_accuracy: 0.7722 - val_loss: 1.2874 - val_categorical_accuracy: 0.7059\n",
            "Epoch 10/20\n",
            "221/221 [==============================] - 38s 172ms/step - loss: 0.9779 - categorical_accuracy: 0.7903 - val_loss: 1.3337 - val_categorical_accuracy: 0.6471\n",
            "Epoch 11/20\n",
            "221/221 [==============================] - 38s 172ms/step - loss: 0.9655 - categorical_accuracy: 0.7949 - val_loss: 1.3133 - val_categorical_accuracy: 0.6667\n",
            "Epoch 12/20\n",
            "221/221 [==============================] - 38s 172ms/step - loss: 0.9721 - categorical_accuracy: 0.7979 - val_loss: 1.3111 - val_categorical_accuracy: 0.6471\n",
            "Epoch 13/20\n",
            "221/221 [==============================] - 38s 172ms/step - loss: 0.9870 - categorical_accuracy: 0.7934 - val_loss: 1.2005 - val_categorical_accuracy: 0.7255\n",
            "Epoch 14/20\n",
            "221/221 [==============================] - 38s 172ms/step - loss: 0.9799 - categorical_accuracy: 0.7768 - val_loss: 1.3358 - val_categorical_accuracy: 0.6667\n",
            "Epoch 15/20\n",
            "221/221 [==============================] - 38s 171ms/step - loss: 0.9799 - categorical_accuracy: 0.7798 - val_loss: 1.3299 - val_categorical_accuracy: 0.6471\n",
            "Epoch 16/20\n",
            "221/221 [==============================] - 38s 171ms/step - loss: 0.9801 - categorical_accuracy: 0.7888 - val_loss: 1.2762 - val_categorical_accuracy: 0.7059\n",
            "Epoch 17/20\n",
            "221/221 [==============================] - 38s 172ms/step - loss: 0.9732 - categorical_accuracy: 0.7949 - val_loss: 1.2865 - val_categorical_accuracy: 0.6667\n",
            "Epoch 18/20\n",
            "221/221 [==============================] - 39s 177ms/step - loss: 0.9845 - categorical_accuracy: 0.7828 - val_loss: 1.2694 - val_categorical_accuracy: 0.6961\n",
            "Epoch 19/20\n",
            "221/221 [==============================] - 39s 178ms/step - loss: 0.9741 - categorical_accuracy: 0.7858 - val_loss: 1.3022 - val_categorical_accuracy: 0.6667\n",
            "Epoch 20/20\n",
            "221/221 [==============================] - 38s 173ms/step - loss: 0.9881 - categorical_accuracy: 0.7873 - val_loss: 1.2887 - val_categorical_accuracy: 0.6961\n"
          ]
        }
      ],
      "source": [
        "history=model.fit(train_generator, steps_per_epoch=steps_per_epoch, epochs=num_epochs, verbose=1, \n",
        "                    validation_data=val_generator,\n",
        "                    validation_steps=validation_steps, class_weight=None, workers=1, initial_epoch=0)"
      ]
    },
    {
      "cell_type": "code",
      "execution_count": null,
      "metadata": {
        "id": "HZkqFqMXGC7i",
        "colab": {
          "base_uri": "https://localhost:8080/",
          "height": 498
        },
        "outputId": "d5b73c92-b38a-477f-aff0-600b4c88f1d4"
      },
      "outputs": [
        {
          "output_type": "display_data",
          "data": {
            "image/png": "[encoded data removed]",
            "text/plain": [
              "<Figure size 576x576 with 2 Axes>"
            ]
          },
          "metadata": {
            "needs_background": "light"
          }
        }
      ],
      "source": [
        "#Visualising loss and accuracy\n",
        "epochs=num_epochs \n",
        "plot_history(history) "
      ]
    },
    {
      "cell_type": "markdown",
      "metadata": {
        "id": "GlwcRlpMJoG3"
      },
      "source": [
        "# Model 8\n",
        "To check for divergence or convergence of above obtained result \n",
        "Checking on 30 epochs, and learning rate with ReduceOnPlateau instead polynomial decay"
      ]
    },
    {
      "cell_type": "code",
      "source": [
        "#Hyper-Parameters\n",
        "batch_size = 13\n",
        "num_imges=3\n",
        "num_epochs=30\n",
        "input_shape=[num_imges,120,160,3]"
      ],
      "metadata": {
        "id": "7vZPcntBOaW2"
      },
      "execution_count": null,
      "outputs": []
    },
    {
      "cell_type": "code",
      "execution_count": null,
      "metadata": {
        "id": "O03i2RiFJoG4"
      },
      "outputs": [],
      "source": [
        "#Initialising model\n",
        "\n",
        "model = Sequential()\n",
        "model.add(Conv3D(32, kernel_size=(3, 3, 3), activation='relu', input_shape=input_shape,padding=\"same\",))\n",
        "model.add(Conv3D(64, kernel_size=(2, 2, 2), activation='relu',padding=\"same\",kernel_regularizer=regularizers.l2(l=0.01)))\n",
        "model.add(BatchNormalization())\n",
        "model.add(MaxPooling3D(pool_size=(2, 2, 2))) \n",
        "model.add(Dropout(0.2))\n",
        "\n",
        "model.add(Conv3D(128, kernel_size=(2, 2, 2), activation='relu',padding=\"same\",kernel_regularizer=regularizers.l2(l=0.01)))\n",
        "model.add(MaxPooling3D(pool_size=(2, 2, 2),padding='same'))\n",
        "model.add(Dropout(0.4))\n",
        "model.add(Flatten())\n",
        "model.add(Dense(256, activation='relu'))\n",
        "model.add(Dense(5, activation='softmax') )"
      ]
    },
    {
      "cell_type": "code",
      "execution_count": null,
      "metadata": {
        "colab": {
          "base_uri": "https://localhost:8080/"
        },
        "outputId": "1e3803fa-2a15-4d88-8624-160f42ac6b6a",
        "scrolled": true,
        "id": "J2bxL7EeJoG6"
      },
      "outputs": [
        {
          "output_type": "stream",
          "name": "stdout",
          "text": [
            "Model: \"sequential_1\"\n",
            "_________________________________________________________________\n",
            " Layer (type)                Output Shape              Param #   \n",
            "=================================================================\n",
            " conv3d_3 (Conv3D)           (None, 3, 120, 160, 32)   2624      \n",
            "                                                                 \n",
            " conv3d_4 (Conv3D)           (None, 3, 120, 160, 64)   16448     \n",
            "                                                                 \n",
            " batch_normalization_1 (Batc  (None, 3, 120, 160, 64)  256       \n",
            " hNormalization)                                                 \n",
            "                                                                 \n",
            " max_pooling3d_2 (MaxPooling  (None, 1, 60, 80, 64)    0         \n",
            " 3D)                                                             \n",
            "                                                                 \n",
            " dropout_2 (Dropout)         (None, 1, 60, 80, 64)     0         \n",
            "                                                                 \n",
            " conv3d_5 (Conv3D)           (None, 1, 60, 80, 128)    65664     \n",
            "                                                                 \n",
            " max_pooling3d_3 (MaxPooling  (None, 1, 30, 40, 128)   0         \n",
            " 3D)                                                             \n",
            "                                                                 \n",
            " dropout_3 (Dropout)         (None, 1, 30, 40, 128)    0         \n",
            "                                                                 \n",
            " flatten_1 (Flatten)         (None, 153600)            0         \n",
            "                                                                 \n",
            " dense_2 (Dense)             (None, 256)               39321856  \n",
            "                                                                 \n",
            " dense_3 (Dense)             (None, 5)                 1285      \n",
            "                                                                 \n",
            "=================================================================\n",
            "Total params: 39,408,133\n",
            "Trainable params: 39,408,005\n",
            "Non-trainable params: 128\n",
            "_________________________________________________________________\n",
            "None\n"
          ]
        }
      ],
      "source": [
        "#Optimising model\n",
        "model.compile(optimizer=tf.keras.optimizers.Adadelta(learning_rate=0.01),\n",
        "              loss=tf.keras.losses.categorical_crossentropy,\n",
        "              metrics=[tf.keras.metrics.CategoricalAccuracy()])\n",
        "print (model.summary())"
      ]
    },
    {
      "cell_type": "code",
      "execution_count": null,
      "metadata": {
        "id": "m-qHrO54JoG9"
      },
      "outputs": [],
      "source": [
        "#CReating generator iterator\n",
        "train_generator = generator(train_path, train_doc, batch_size)\n",
        "val_generator = generator(test_path, val_doc, batch_size)"
      ]
    },
    {
      "cell_type": "code",
      "execution_count": null,
      "metadata": {
        "id": "kSk0_zjJJoG_"
      },
      "outputs": [],
      "source": [
        "if (num_train_sequences%batch_size) == 0:\n",
        "    steps_per_epoch = int(num_train_sequences/batch_size)\n",
        "else:\n",
        "    steps_per_epoch = (num_train_sequences//batch_size) + 1\n",
        "\n",
        "if (num_val_sequences%batch_size) == 0:\n",
        "    validation_steps = int(num_val_sequences/batch_size)\n",
        "else:\n",
        "    validation_steps = (num_val_sequences//batch_size) + 1"
      ]
    },
    {
      "cell_type": "code",
      "execution_count": null,
      "metadata": {
        "id": "huHVn8rBJoG_"
      },
      "outputs": [],
      "source": [
        "###_callback\n",
        "LR = ReduceLROnPlateau(monitor='val_loss', factor=0.1,patience=2, min_lr=0.0001)\n",
        "callbacks_list = [LR]"
      ]
    },
    {
      "cell_type": "code",
      "execution_count": null,
      "metadata": {
        "colab": {
          "base_uri": "https://localhost:8080/"
        },
        "outputId": "733fbd9f-d01a-42bb-edd2-631be1d7c50a",
        "id": "W0-9h9RAJoHA"
      },
      "outputs": [
        {
          "output_type": "stream",
          "name": "stdout",
          "text": [
            "Source path =  /content/drive/MyDrive/Project_data/Project_data/train ; batch size = 13\n",
            "Epoch 1/30\n",
            "51/51 [==============================] - ETA: 0s - loss: 3.0245 - categorical_accuracy: 0.2851 Source path =  /content/drive/MyDrive/Project_data/Project_data/val ; batch size = 13\n",
            "51/51 [==============================] - 1147s 23s/step - loss: 3.0245 - categorical_accuracy: 0.2851 - val_loss: 2.8579 - val_categorical_accuracy: 0.2885 - lr: 0.0100\n",
            "Epoch 2/30\n",
            "51/51 [==============================] - 283s 6s/step - loss: 2.7140 - categorical_accuracy: 0.3756 - val_loss: 2.8462 - val_categorical_accuracy: 0.2404 - lr: 0.0100\n",
            "Epoch 3/30\n",
            "51/51 [==============================] - 295s 6s/step - loss: 2.4903 - categorical_accuracy: 0.4977 - val_loss: 2.8053 - val_categorical_accuracy: 0.2692 - lr: 0.0100\n",
            "Epoch 4/30\n",
            "51/51 [==============================] - 281s 6s/step - loss: 2.3196 - categorical_accuracy: 0.5958 - val_loss: 2.7743 - val_categorical_accuracy: 0.2981 - lr: 0.0100\n",
            "Epoch 5/30\n",
            "51/51 [==============================] - 279s 5s/step - loss: 2.2457 - categorical_accuracy: 0.6169 - val_loss: 2.6837 - val_categorical_accuracy: 0.4423 - lr: 0.0100\n",
            "Epoch 6/30\n",
            "51/51 [==============================] - 274s 5s/step - loss: 2.0850 - categorical_accuracy: 0.6727 - val_loss: 2.6422 - val_categorical_accuracy: 0.4135 - lr: 0.0100\n",
            "Epoch 7/30\n",
            "51/51 [==============================] - 275s 5s/step - loss: 1.9999 - categorical_accuracy: 0.6908 - val_loss: 2.5635 - val_categorical_accuracy: 0.4904 - lr: 0.0100\n",
            "Epoch 8/30\n",
            "51/51 [==============================] - 270s 5s/step - loss: 1.8851 - categorical_accuracy: 0.7587 - val_loss: 2.5037 - val_categorical_accuracy: 0.4519 - lr: 0.0100\n",
            "Epoch 9/30\n",
            "51/51 [==============================] - 268s 5s/step - loss: 1.8367 - categorical_accuracy: 0.7858 - val_loss: 2.4575 - val_categorical_accuracy: 0.4904 - lr: 0.0100\n",
            "Epoch 10/30\n",
            "51/51 [==============================] - 269s 5s/step - loss: 1.7839 - categorical_accuracy: 0.7994 - val_loss: 2.2409 - val_categorical_accuracy: 0.6538 - lr: 0.0100\n",
            "Epoch 11/30\n",
            "51/51 [==============================] - 273s 5s/step - loss: 1.6579 - categorical_accuracy: 0.8296 - val_loss: 2.2637 - val_categorical_accuracy: 0.5577 - lr: 0.0100\n",
            "Epoch 12/30\n",
            "51/51 [==============================] - 271s 5s/step - loss: 1.6658 - categorical_accuracy: 0.8386 - val_loss: 2.1636 - val_categorical_accuracy: 0.5769 - lr: 0.0100\n",
            "Epoch 13/30\n",
            "51/51 [==============================] - 270s 5s/step - loss: 1.5880 - categorical_accuracy: 0.8552 - val_loss: 2.1803 - val_categorical_accuracy: 0.6058 - lr: 0.0100\n",
            "Epoch 14/30\n",
            "51/51 [==============================] - 271s 5s/step - loss: 1.4998 - categorical_accuracy: 0.8989 - val_loss: 2.1843 - val_categorical_accuracy: 0.5962 - lr: 0.0100\n",
            "Epoch 15/30\n",
            "51/51 [==============================] - 273s 5s/step - loss: 1.4019 - categorical_accuracy: 0.9472 - val_loss: 2.0817 - val_categorical_accuracy: 0.6346 - lr: 1.0000e-03\n",
            "Epoch 16/30\n",
            "51/51 [==============================] - 273s 5s/step - loss: 1.3605 - categorical_accuracy: 0.9713 - val_loss: 2.0173 - val_categorical_accuracy: 0.6635 - lr: 1.0000e-03\n",
            "Epoch 17/30\n",
            "51/51 [==============================] - 271s 5s/step - loss: 1.3699 - categorical_accuracy: 0.9623 - val_loss: 1.9647 - val_categorical_accuracy: 0.7019 - lr: 1.0000e-03\n",
            "Epoch 18/30\n",
            "51/51 [==============================] - 267s 5s/step - loss: 1.3729 - categorical_accuracy: 0.9563 - val_loss: 2.0583 - val_categorical_accuracy: 0.6154 - lr: 1.0000e-03\n",
            "Epoch 19/30\n",
            "51/51 [==============================] - 268s 5s/step - loss: 1.3696 - categorical_accuracy: 0.9563 - val_loss: 1.9966 - val_categorical_accuracy: 0.6635 - lr: 1.0000e-03\n",
            "Epoch 20/30\n",
            "51/51 [==============================] - 269s 5s/step - loss: 1.3468 - categorical_accuracy: 0.9593 - val_loss: 2.0884 - val_categorical_accuracy: 0.6635 - lr: 1.0000e-04\n",
            "Epoch 21/30\n",
            "51/51 [==============================] - 271s 5s/step - loss: 1.3544 - categorical_accuracy: 0.9608 - val_loss: 1.9991 - val_categorical_accuracy: 0.6538 - lr: 1.0000e-04\n",
            "Epoch 22/30\n",
            "51/51 [==============================] - 267s 5s/step - loss: 1.3514 - categorical_accuracy: 0.9578 - val_loss: 2.0266 - val_categorical_accuracy: 0.6442 - lr: 1.0000e-04\n",
            "Epoch 23/30\n",
            "51/51 [==============================] - 267s 5s/step - loss: 1.3600 - categorical_accuracy: 0.9623 - val_loss: 2.0167 - val_categorical_accuracy: 0.6538 - lr: 1.0000e-04\n",
            "Epoch 24/30\n",
            "51/51 [==============================] - 266s 5s/step - loss: 1.3428 - categorical_accuracy: 0.9578 - val_loss: 2.0145 - val_categorical_accuracy: 0.6731 - lr: 1.0000e-04\n",
            "Epoch 25/30\n",
            "51/51 [==============================] - 266s 5s/step - loss: 1.3378 - categorical_accuracy: 0.9668 - val_loss: 1.9986 - val_categorical_accuracy: 0.6538 - lr: 1.0000e-04\n",
            "Epoch 26/30\n",
            "51/51 [==============================] - 268s 5s/step - loss: 1.3420 - categorical_accuracy: 0.9683 - val_loss: 2.0006 - val_categorical_accuracy: 0.6635 - lr: 1.0000e-04\n",
            "Epoch 27/30\n",
            "51/51 [==============================] - 267s 5s/step - loss: 1.3524 - categorical_accuracy: 0.9668 - val_loss: 2.0796 - val_categorical_accuracy: 0.6635 - lr: 1.0000e-04\n",
            "Epoch 28/30\n",
            "51/51 [==============================] - 271s 5s/step - loss: 1.3519 - categorical_accuracy: 0.9623 - val_loss: 2.0167 - val_categorical_accuracy: 0.6442 - lr: 1.0000e-04\n",
            "Epoch 29/30\n",
            "51/51 [==============================] - 270s 5s/step - loss: 1.3542 - categorical_accuracy: 0.9638 - val_loss: 2.0334 - val_categorical_accuracy: 0.6538 - lr: 1.0000e-04\n",
            "Epoch 30/30\n",
            "51/51 [==============================] - 271s 5s/step - loss: 1.3460 - categorical_accuracy: 0.9638 - val_loss: 2.0392 - val_categorical_accuracy: 0.6538 - lr: 1.0000e-04\n"
          ]
        }
      ],
      "source": [
        "history=model.fit(train_generator, steps_per_epoch=steps_per_epoch, epochs=num_epochs, verbose=1, \n",
        "                    validation_data=val_generator, callbacks=callbacks_list,\n",
        "                    validation_steps=validation_steps, class_weight=None, workers=1, initial_epoch=0)"
      ]
    },
    {
      "cell_type": "code",
      "execution_count": null,
      "metadata": {
        "colab": {
          "base_uri": "https://localhost:8080/",
          "height": 499
        },
        "outputId": "ceaaa584-398d-4b6b-8cba-a83836db7619",
        "id": "mNNjbUh0JoHB"
      },
      "outputs": [
        {
          "output_type": "display_data",
          "data": {
            "image/png": "[encoded data removed]",
            "text/plain": [
              "<Figure size 576x576 with 2 Axes>"
            ]
          },
          "metadata": {
            "needs_background": "light"
          }
        }
      ],
      "source": [
        "epochs=num_epochs\n",
        "plot_history(history) \n",
        " "
      ]
    },
    {
      "cell_type": "markdown",
      "source": [
        "It seems around ~70 is easily achievable, we got 0.70+ in 7th model with minimum loss, using hyperparameters we used\n"
      ],
      "metadata": {
        "id": "xE9ny9GANjWs"
      }
    },
    {
      "cell_type": "markdown",
      "source": [
        "#Trying CNN+LSTM Based Model"
      ],
      "metadata": {
        "id": "SUMzgVsvOE82"
      }
    },
    {
      "cell_type": "code",
      "source": [
        "#Hyperparameters\n",
        "batch_size = 17\n",
        "num_imges=3\n",
        "num_epochs=15"
      ],
      "metadata": {
        "id": "yrAhGeBUODTh"
      },
      "execution_count": null,
      "outputs": []
    },
    {
      "cell_type": "markdown",
      "metadata": {
        "id": "NMVOirmXqBP7"
      },
      "source": [
        "## Model 9\n",
        "using conv2d and lstm"
      ]
    },
    {
      "cell_type": "code",
      "execution_count": null,
      "metadata": {
        "id": "0Z_JXjkIqBP9"
      },
      "outputs": [],
      "source": [
        "from keras.layers import Conv2D,Dense, GRU, Flatten, TimeDistributed, Flatten, BatchNormalization, Activation,Dropout\n",
        "from keras.layers.convolutional import Conv3D, MaxPooling3D,MaxPooling2D\n",
        "from keras.layers import LSTM\n",
        "\n",
        "\n",
        "def model_skeleton(input_shape=input_shape):\n",
        "     model = Sequential()\n",
        "     # define CNN model\n",
        "     model.add(TimeDistributed(Conv2D(32, kernel_size=(3, 3), activation='relu',padding=\"same\",kernel_regularizer=regularizers.l2(l=0.01)),input_shape=input_shape))\n",
        "     model.add(TimeDistributed(Conv2D(32, kernel_size=(2, 2), activation='relu',padding=\"same\",kernel_regularizer=regularizers.l2(l=0.01))))\n",
        "     model.add(TimeDistributed(MaxPooling2D(pool_size=(2, 2))))\n",
        "     model.add(TimeDistributed(Flatten()))\n",
        "     # define LSTM model\n",
        "     model.add(LSTM(50,return_sequences=False,input_shape=(5,1,1)))\n",
        " #    model.add(TimeDistributed(Dropout(0.5)()))\n",
        "     model.add(Dense(64, activation='relu'))\n",
        "     model.add(Dense(5, activation='softmax') )\n",
        "     return model\n",
        "model=model_skeleton(input_shape)"
      ]
    },
    {
      "cell_type": "markdown",
      "metadata": {
        "id": "dLk-NrLbqBP_"
      },
      "source": [
        "Now that you have written the model, the next step is to `compile` the model. When you print the `summary` of the model, you'll see the total number of parameters you have to train."
      ]
    },
    {
      "cell_type": "code",
      "execution_count": null,
      "metadata": {
        "scrolled": true,
        "colab": {
          "base_uri": "https://localhost:8080/"
        },
        "outputId": "2aecb797-fc1d-4686-d740-51296732918b",
        "id": "n7p6keYkqBQA"
      },
      "outputs": [
        {
          "output_type": "stream",
          "name": "stdout",
          "text": [
            "Model: \"sequential_7\"\n",
            "_________________________________________________________________\n",
            " Layer (type)                Output Shape              Param #   \n",
            "=================================================================\n",
            " time_distributed_29 (TimeDi  (None, 3, 120, 160, 32)  896       \n",
            " stributed)                                                      \n",
            "                                                                 \n",
            " time_distributed_30 (TimeDi  (None, 3, 120, 160, 32)  4128      \n",
            " stributed)                                                      \n",
            "                                                                 \n",
            " time_distributed_31 (TimeDi  (None, 3, 60, 80, 32)    0         \n",
            " stributed)                                                      \n",
            "                                                                 \n",
            " time_distributed_32 (TimeDi  (None, 3, 153600)        0         \n",
            " stributed)                                                      \n",
            "                                                                 \n",
            " lstm_7 (LSTM)               (None, 50)                30730200  \n",
            "                                                                 \n",
            " dense_8 (Dense)             (None, 64)                3264      \n",
            "                                                                 \n",
            " dense_9 (Dense)             (None, 5)                 325       \n",
            "                                                                 \n",
            "=================================================================\n",
            "Total params: 30,738,813\n",
            "Trainable params: 30,738,813\n",
            "Non-trainable params: 0\n",
            "_________________________________________________________________\n"
          ]
        }
      ],
      "source": [
        "decay_steps=663*num_imges*num_epochs\n",
        "learning_rate_fn = tf.keras.optimizers.schedules.PolynomialDecay(\n",
        "    0.1, #starter_learning_rate,\n",
        "    1500, #decay_steps,\n",
        "    0.0001,#end_learning_rate,\n",
        "    power=0.1) \n",
        "model.compile(optimizer=tf.keras.optimizers.Adadelta(learning_rate=0.1),\n",
        "              loss=tf.keras.losses.categorical_crossentropy,\n",
        "              metrics=[tf.keras.metrics.CategoricalAccuracy()])\n",
        "\n",
        "model.build(input_shape) \n",
        "model.summary()"
      ]
    },
    {
      "cell_type": "markdown",
      "metadata": {
        "id": "hqb3r_oVqBQC"
      },
      "source": [
        "Let us create the `train_generator` and the `val_generator` which will be used in `.fit_generator`."
      ]
    },
    {
      "cell_type": "code",
      "execution_count": null,
      "metadata": {
        "id": "z705qem6qBQD"
      },
      "outputs": [],
      "source": [
        "train_generator = generator(train_path, train_doc, batch_size)\n",
        "val_generator = generator(test_path, val_doc, batch_size)"
      ]
    },
    {
      "cell_type": "code",
      "execution_count": null,
      "metadata": {
        "id": "DRd0t7KoqBQD"
      },
      "outputs": [],
      "source": [
        "os.environ['TF_FORCE_GPU_ALLOW_GROWTH'] = 'true'"
      ]
    },
    {
      "cell_type": "code",
      "execution_count": null,
      "metadata": {
        "id": "0xaZz-1zqBQE"
      },
      "outputs": [],
      "source": [
        "if (num_train_sequences%batch_size) == 0:\n",
        "    steps_per_epoch = int(num_train_sequences/batch_size)\n",
        "else:\n",
        "    steps_per_epoch = (num_train_sequences//batch_size) + 1\n",
        "\n",
        "if (num_val_sequences%batch_size) == 0:\n",
        "    validation_steps = int(num_val_sequences/batch_size)\n",
        "else:\n",
        "    validation_steps = (num_val_sequences//batch_size) + 1"
      ]
    },
    {
      "cell_type": "code",
      "execution_count": null,
      "metadata": {
        "id": "wpdRGMKHqHS0"
      },
      "outputs": [],
      "source": [
        "###_callback\n",
        "model_name = '10img_20epoch_00' + '_' + str(curr_dt_time).replace(' ','').replace(':','_') + '/'\n",
        "if not os.path.exists(model_name):\n",
        "    os.mkdir(model_name)        \n",
        "filepath = model_name + \"metric:{loss:.5f}-{categorical_accuracy:.5f}-{val_loss:.5f}-{val_categorical_accuracy:.5f}.h5\"\n",
        "checkpoint = ModelCheckpoint(filepath,monitor='val_loss', verbose=1, save_best_only=True, save_weights_only=True, mode='auto', save_freq=\"epoch\")\n",
        "LR = ReduceLROnPlateau(monitor='val_loss', factor=0.1,\n",
        "                              patience=2, min_lr=0.0001)\n",
        "callbacks_list = [checkpoint,LR]\n"
      ]
    },
    {
      "cell_type": "code",
      "source": [
        ""
      ],
      "metadata": {
        "id": "T3VuTTyorLpp"
      },
      "execution_count": null,
      "outputs": []
    },
    {
      "cell_type": "code",
      "execution_count": null,
      "metadata": {
        "colab": {
          "base_uri": "https://localhost:8080/"
        },
        "outputId": "3a1128d3-b716-4ca8-8a7b-79ff697f5fd1",
        "id": "Umk9BLv2rL8B"
      },
      "outputs": [
        {
          "output_type": "stream",
          "name": "stdout",
          "text": [
            "Source path =  /content/drive/MyDrive/Project_data/Project_data/train ; batch size = 17\n",
            "Epoch 1/15\n",
            "39/39 [==============================] - ETA: 0s - loss: 1.9848 - categorical_accuracy: 0.2232 Source path =  /content/drive/MyDrive/Project_data/Project_data/val ; batch size = 17\n",
            "\n",
            "Epoch 00001: val_loss improved from inf to 1.94359, saving model to 10img_20epoch_00_2022-02-0217_37_59.182936/metric:1.98484-0.22323-1.94359-0.22549.h5\n",
            "39/39 [==============================] - 1580s 41s/step - loss: 1.9848 - categorical_accuracy: 0.2232 - val_loss: 1.9436 - val_categorical_accuracy: 0.2255 - lr: 0.1000\n",
            "Epoch 2/15\n",
            "39/39 [==============================] - ETA: 0s - loss: 1.9211 - categorical_accuracy: 0.2821\n",
            "Epoch 00002: val_loss improved from 1.94359 to 1.89953, saving model to 10img_20epoch_00_2022-02-0217_37_59.182936/metric:1.92112-0.28205-1.89953-0.27451.h5\n",
            "39/39 [==============================] - 99s 3s/step - loss: 1.9211 - categorical_accuracy: 0.2821 - val_loss: 1.8995 - val_categorical_accuracy: 0.2745 - lr: 0.1000\n",
            "Epoch 3/15\n",
            "39/39 [==============================] - ETA: 0s - loss: 1.8708 - categorical_accuracy: 0.2730\n",
            "Epoch 00003: val_loss improved from 1.89953 to 1.84677, saving model to 10img_20epoch_00_2022-02-0217_37_59.182936/metric:1.87084-0.27300-1.84677-0.34314.h5\n",
            "39/39 [==============================] - 84s 2s/step - loss: 1.8708 - categorical_accuracy: 0.2730 - val_loss: 1.8468 - val_categorical_accuracy: 0.3431 - lr: 0.1000\n",
            "Epoch 4/15\n",
            "39/39 [==============================] - ETA: 0s - loss: 1.7909 - categorical_accuracy: 0.3816\n",
            "Epoch 00004: val_loss improved from 1.84677 to 1.78030, saving model to 10img_20epoch_00_2022-02-0217_37_59.182936/metric:1.79090-0.38160-1.78030-0.33333.h5\n",
            "39/39 [==============================] - 84s 2s/step - loss: 1.7909 - categorical_accuracy: 0.3816 - val_loss: 1.7803 - val_categorical_accuracy: 0.3333 - lr: 0.1000\n",
            "Epoch 5/15\n",
            "39/39 [==============================] - ETA: 0s - loss: 1.7193 - categorical_accuracy: 0.4238\n",
            "Epoch 00005: val_loss did not improve from 1.78030\n",
            "39/39 [==============================] - 84s 2s/step - loss: 1.7193 - categorical_accuracy: 0.4238 - val_loss: 1.7853 - val_categorical_accuracy: 0.3235 - lr: 0.1000\n",
            "Epoch 6/15\n",
            "39/39 [==============================] - ETA: 0s - loss: 1.5956 - categorical_accuracy: 0.4751\n",
            "Epoch 00006: val_loss improved from 1.78030 to 1.64533, saving model to 10img_20epoch_00_2022-02-0217_37_59.182936/metric:1.59564-0.47511-1.64533-0.38235.h5\n",
            "39/39 [==============================] - 84s 2s/step - loss: 1.5956 - categorical_accuracy: 0.4751 - val_loss: 1.6453 - val_categorical_accuracy: 0.3824 - lr: 0.1000\n",
            "Epoch 7/15\n",
            "39/39 [==============================] - ETA: 0s - loss: 1.5138 - categorical_accuracy: 0.5053\n",
            "Epoch 00007: val_loss improved from 1.64533 to 1.53477, saving model to 10img_20epoch_00_2022-02-0217_37_59.182936/metric:1.51376-0.50528-1.53477-0.45098.h5\n",
            "39/39 [==============================] - 84s 2s/step - loss: 1.5138 - categorical_accuracy: 0.5053 - val_loss: 1.5348 - val_categorical_accuracy: 0.4510 - lr: 0.1000\n",
            "Epoch 8/15\n",
            "39/39 [==============================] - ETA: 0s - loss: 1.3815 - categorical_accuracy: 0.5973\n",
            "Epoch 00008: val_loss did not improve from 1.53477\n",
            "39/39 [==============================] - 83s 2s/step - loss: 1.3815 - categorical_accuracy: 0.5973 - val_loss: 1.5416 - val_categorical_accuracy: 0.4510 - lr: 0.1000\n",
            "Epoch 9/15\n",
            "39/39 [==============================] - ETA: 0s - loss: 1.2777 - categorical_accuracy: 0.6229\n",
            "Epoch 00009: val_loss improved from 1.53477 to 1.44153, saving model to 10img_20epoch_00_2022-02-0217_37_59.182936/metric:1.27769-0.62293-1.44153-0.51961.h5\n",
            "39/39 [==============================] - 84s 2s/step - loss: 1.2777 - categorical_accuracy: 0.6229 - val_loss: 1.4415 - val_categorical_accuracy: 0.5196 - lr: 0.1000\n",
            "Epoch 10/15\n",
            "39/39 [==============================] - ETA: 0s - loss: 1.1564 - categorical_accuracy: 0.6742\n",
            "Epoch 00010: val_loss did not improve from 1.44153\n",
            "39/39 [==============================] - 83s 2s/step - loss: 1.1564 - categorical_accuracy: 0.6742 - val_loss: 1.5997 - val_categorical_accuracy: 0.4902 - lr: 0.1000\n",
            "Epoch 11/15\n",
            "39/39 [==============================] - ETA: 0s - loss: 1.0372 - categorical_accuracy: 0.7557\n",
            "Epoch 00011: val_loss improved from 1.44153 to 1.39435, saving model to 10img_20epoch_00_2022-02-0217_37_59.182936/metric:1.03724-0.75566-1.39435-0.47059.h5\n",
            "39/39 [==============================] - 84s 2s/step - loss: 1.0372 - categorical_accuracy: 0.7557 - val_loss: 1.3944 - val_categorical_accuracy: 0.4706 - lr: 0.1000\n",
            "Epoch 12/15\n",
            "39/39 [==============================] - ETA: 0s - loss: 0.8879 - categorical_accuracy: 0.7919\n",
            "Epoch 00012: val_loss did not improve from 1.39435\n",
            "39/39 [==============================] - 84s 2s/step - loss: 0.8879 - categorical_accuracy: 0.7919 - val_loss: 1.6874 - val_categorical_accuracy: 0.4118 - lr: 0.1000\n",
            "Epoch 13/15\n",
            "39/39 [==============================] - ETA: 0s - loss: 0.8327 - categorical_accuracy: 0.8115\n",
            "Epoch 00013: val_loss did not improve from 1.39435\n",
            "39/39 [==============================] - 83s 2s/step - loss: 0.8327 - categorical_accuracy: 0.8115 - val_loss: 1.5327 - val_categorical_accuracy: 0.4804 - lr: 0.1000\n",
            "Epoch 14/15\n",
            "39/39 [==============================] - ETA: 0s - loss: 0.6131 - categorical_accuracy: 0.9140\n",
            "Epoch 00014: val_loss improved from 1.39435 to 1.31333, saving model to 10img_20epoch_00_2022-02-0217_37_59.182936/metric:0.61307-0.91403-1.31333-0.49020.h5\n",
            "39/39 [==============================] - 84s 2s/step - loss: 0.6131 - categorical_accuracy: 0.9140 - val_loss: 1.3133 - val_categorical_accuracy: 0.4902 - lr: 0.0100\n",
            "Epoch 15/15\n",
            "39/39 [==============================] - ETA: 0s - loss: 0.5628 - categorical_accuracy: 0.9276\n",
            "Epoch 00015: val_loss improved from 1.31333 to 1.19387, saving model to 10img_20epoch_00_2022-02-0217_37_59.182936/metric:0.56278-0.92760-1.19387-0.60784.h5\n",
            "39/39 [==============================] - 84s 2s/step - loss: 0.5628 - categorical_accuracy: 0.9276 - val_loss: 1.1939 - val_categorical_accuracy: 0.6078 - lr: 0.0100\n"
          ]
        }
      ],
      "source": [
        "history=model.fit(train_generator, steps_per_epoch=steps_per_epoch, epochs=num_epochs, verbose=1, \n",
        "                    validation_data=val_generator, callbacks=callbacks_list,\n",
        "                    validation_steps=validation_steps, class_weight=None, workers=1, initial_epoch=0)"
      ]
    },
    {
      "cell_type": "code",
      "execution_count": null,
      "metadata": {
        "colab": {
          "base_uri": "https://localhost:8080/",
          "height": 499
        },
        "outputId": "3ec18f7e-c5f3-4a4a-c7e7-fbff15692779",
        "id": "rLU12sVNrL8D"
      },
      "outputs": [
        {
          "output_type": "display_data",
          "data": {
            "image/png": "[encoded data removed]",
            "text/plain": [
              "<Figure size 576x576 with 2 Axes>"
            ]
          },
          "metadata": {
            "needs_background": "light"
          }
        }
      ],
      "source": [
        "epochs=num_epochs\n",
        "plot_history(history) \n",
        " "
      ]
    },
    {
      "cell_type": "code",
      "source": [
        ""
      ],
      "metadata": {
        "id": "MzUjmaBk6eSB"
      },
      "execution_count": null,
      "outputs": []
    },
    {
      "cell_type": "markdown",
      "metadata": {
        "id": "DFwfTLPo6ekK"
      },
      "source": [
        "## Model 10\n",
        "using conv2d and lstm :Removing overfitting as seen in previous model"
      ]
    },
    {
      "cell_type": "code",
      "execution_count": 33,
      "metadata": {
        "id": "SrpWeUNI6ekL"
      },
      "outputs": [],
      "source": [
        "\n",
        "def model_skeleton(input_shape=input_shape):\n",
        "     model = Sequential()\n",
        "     # define CNN model\n",
        "     model.add(TimeDistributed(Conv2D(32, kernel_size=(3, 3), activation='relu',padding=\"same\",kernel_regularizer=regularizers.l2(l=0.001)),input_shape=input_shape))\n",
        "     model.add(TimeDistributed(Conv2D(32, kernel_size=(2, 2), activation='relu',padding=\"same\",kernel_regularizer=regularizers.l2(l=0.001))))\n",
        "     model.add(TimeDistributed(MaxPooling2D(pool_size=(3, 3))))\n",
        "     model.add(TimeDistributed(Dropout(0.3)))\n",
        "     model.add(TimeDistributed(Conv2D(64, kernel_size=(3, 3), activation='relu',padding=\"same\",kernel_regularizer=regularizers.l2(l=0.001)),input_shape=input_shape))\n",
        "     model.add(TimeDistributed(Conv2D(128, kernel_size=(2, 2), activation='relu',padding=\"same\",kernel_regularizer=regularizers.l2(l=0.01))))\n",
        "     model.add(TimeDistributed(MaxPooling2D(pool_size=(3, 3))))\n",
        "     model.add(TimeDistributed(Dropout(0.3)))\n",
        "     model.add(TimeDistributed(Flatten()))\n",
        "     # define LSTM model\n",
        "     model.add(LSTM(100,return_sequences=False,input_shape=(5,1,1),  recurrent_regularizer=regularizers.l2(0.01),activity_regularizer=regularizers.l2(0.01)))\n",
        "     model.add(Dense(128, activation='relu'))\n",
        "     model.add(Dense(5, activation='softmax') )\n",
        "     return model\n",
        "model=model_skeleton(input_shape)"
      ]
    },
    {
      "cell_type": "markdown",
      "metadata": {
        "id": "7AGb12pI6ekM"
      },
      "source": [
        "Now that you have written the model, the next step is to `compile` the model. When you print the `summary` of the model, you'll see the total number of parameters you have to train."
      ]
    },
    {
      "cell_type": "code",
      "execution_count": 34,
      "metadata": {
        "scrolled": true,
        "colab": {
          "base_uri": "https://localhost:8080/"
        },
        "outputId": "be2d1323-b14f-4f19-bf84-9f045efceb7e",
        "id": "_KdabEF76ekN"
      },
      "outputs": [
        {
          "output_type": "stream",
          "name": "stdout",
          "text": [
            "Model: \"sequential_5\"\n",
            "_________________________________________________________________\n",
            " Layer (type)                Output Shape              Param #   \n",
            "=================================================================\n",
            " time_distributed_22 (TimeDi  (None, 5, 120, 160, 32)  896       \n",
            " stributed)                                                      \n",
            "                                                                 \n",
            " time_distributed_23 (TimeDi  (None, 5, 120, 160, 32)  4128      \n",
            " stributed)                                                      \n",
            "                                                                 \n",
            " time_distributed_24 (TimeDi  (None, 5, 40, 53, 32)    0         \n",
            " stributed)                                                      \n",
            "                                                                 \n",
            " time_distributed_25 (TimeDi  (None, 5, 40, 53, 32)    0         \n",
            " stributed)                                                      \n",
            "                                                                 \n",
            " time_distributed_26 (TimeDi  (None, 5, 40, 53, 64)    18496     \n",
            " stributed)                                                      \n",
            "                                                                 \n",
            " time_distributed_27 (TimeDi  (None, 5, 40, 53, 128)   32896     \n",
            " stributed)                                                      \n",
            "                                                                 \n",
            " time_distributed_28 (TimeDi  (None, 5, 13, 17, 128)   0         \n",
            " stributed)                                                      \n",
            "                                                                 \n",
            " time_distributed_29 (TimeDi  (None, 5, 13, 17, 128)   0         \n",
            " stributed)                                                      \n",
            "                                                                 \n",
            " time_distributed_30 (TimeDi  (None, 5, 28288)         0         \n",
            " stributed)                                                      \n",
            "                                                                 \n",
            " lstm_3 (LSTM)               (None, 100)               11355600  \n",
            "                                                                 \n",
            " dense_4 (Dense)             (None, 128)               12928     \n",
            "                                                                 \n",
            " dense_5 (Dense)             (None, 5)                 645       \n",
            "                                                                 \n",
            "=================================================================\n",
            "Total params: 11,425,589\n",
            "Trainable params: 11,425,589\n",
            "Non-trainable params: 0\n",
            "_________________________________________________________________\n"
          ]
        }
      ],
      "source": [
        "decay_steps=663*num_imges*num_epochs\n",
        "learning_rate_fn = tf.keras.optimizers.schedules.PolynomialDecay(\n",
        "    0.1, #starter_learning_rate,\n",
        "    1500, #decay_steps,\n",
        "    0.0001,#end_learning_rate,\n",
        "    power=0.1) \n",
        "model.compile(optimizer=tf.keras.optimizers.Adadelta(learning_rate=0.01),\n",
        "              loss=tf.keras.losses.categorical_crossentropy,\n",
        "              metrics=[tf.keras.metrics.CategoricalAccuracy()])\n",
        "\n",
        "model.build(input_shape) \n",
        "model.summary()"
      ]
    },
    {
      "cell_type": "markdown",
      "metadata": {
        "id": "6sUTtO9o6ekO"
      },
      "source": [
        "Let us create the `train_generator` and the `val_generator` which will be used in `.fit_generator`."
      ]
    },
    {
      "cell_type": "code",
      "execution_count": 35,
      "metadata": {
        "id": "BRGhourl6ekP"
      },
      "outputs": [],
      "source": [
        "train_generator = generator(train_path, train_doc, batch_size,1)\n",
        "val_generator = generator(test_path, val_doc, batch_size,1)"
      ]
    },
    {
      "cell_type": "code",
      "execution_count": 36,
      "metadata": {
        "id": "SkUo5yVm6ekP"
      },
      "outputs": [],
      "source": [
        "os.environ['TF_FORCE_GPU_ALLOW_GROWTH'] = 'true'"
      ]
    },
    {
      "cell_type": "code",
      "execution_count": 37,
      "metadata": {
        "id": "xR3s3u0d6ekQ"
      },
      "outputs": [],
      "source": [
        "if (num_train_sequences%batch_size) == 0:\n",
        "    steps_per_epoch = int(num_train_sequences/batch_size)\n",
        "else:\n",
        "    steps_per_epoch = (num_train_sequences//batch_size) + 1\n",
        "\n",
        "if (num_val_sequences%batch_size) == 0:\n",
        "    validation_steps = int(num_val_sequences/batch_size)\n",
        "else:\n",
        "    validation_steps = (num_val_sequences//batch_size) + 1"
      ]
    },
    {
      "cell_type": "code",
      "execution_count": 38,
      "metadata": {
        "id": "74a0c7Gv6ekQ"
      },
      "outputs": [],
      "source": [
        "###_callback\n",
        "model_name = '10img_20epoch_00' + '_' + str(curr_dt_time).replace(' ','').replace(':','_') + '/'\n",
        "if not os.path.exists(model_name):\n",
        "    os.mkdir(model_name)        \n",
        "filepath = model_name + \"metric:{loss:.5f}-{categorical_accuracy:.5f}-{val_loss:.5f}-{val_categorical_accuracy:.5f}.h5\"\n",
        "checkpoint = ModelCheckpoint(filepath,monitor='val_loss', verbose=1, save_best_only=True, save_weights_only=True, mode='auto', save_freq=\"epoch\")\n",
        "LR = ReduceLROnPlateau(monitor='val_loss', factor=0.1,\n",
        "                              patience=2, min_lr=0.0001)\n",
        "callbacks_list = [checkpoint,LR]\n"
      ]
    },
    {
      "cell_type": "code",
      "source": [
        ""
      ],
      "metadata": {
        "id": "Jiup_prl6ekR"
      },
      "execution_count": 38,
      "outputs": []
    },
    {
      "cell_type": "code",
      "execution_count": 39,
      "metadata": {
        "colab": {
          "base_uri": "https://localhost:8080/"
        },
        "outputId": "af3cdeb5-c9c9-4989-b561-a851b8997cd6",
        "id": "qZgz0NXL6ekR"
      },
      "outputs": [
        {
          "output_type": "stream",
          "name": "stdout",
          "text": [
            "Source path =  /content/drive/MyDrive/Project_data/Project_data/train ; batch size = 13\n",
            "Epoch 1/20\n",
            "51/51 [==============================] - ETA: 0s - loss: 3.5334 - categorical_accuracy: 0.2112 Source path =  /content/drive/MyDrive/Project_data/Project_data/val ; batch size = 13\n",
            "\n",
            "Epoch 1: val_loss improved from inf to 3.51105, saving model to 10img_20epoch_00_2022-06-0119_45_11.251181/metric:3.53343-0.21116-3.51105-0.23077.h5\n",
            "51/51 [==============================] - 885s 18s/step - loss: 3.5334 - categorical_accuracy: 0.2112 - val_loss: 3.5111 - val_categorical_accuracy: 0.2308 - lr: 0.0100\n",
            "Epoch 2/20\n",
            "51/51 [==============================] - ETA: 0s - loss: 3.5041 - categorical_accuracy: 0.2172\n",
            "Epoch 2: val_loss improved from 3.51105 to 3.48704, saving model to 10img_20epoch_00_2022-06-0119_45_11.251181/metric:3.50406-0.21719-3.48704-0.19231.h5\n",
            "51/51 [==============================] - 26s 521ms/step - loss: 3.5041 - categorical_accuracy: 0.2172 - val_loss: 3.4870 - val_categorical_accuracy: 0.1923 - lr: 0.0100\n",
            "Epoch 3/20\n",
            "51/51 [==============================] - ETA: 0s - loss: 3.4744 - categorical_accuracy: 0.2247\n",
            "Epoch 3: val_loss improved from 3.48704 to 3.45905, saving model to 10img_20epoch_00_2022-06-0119_45_11.251181/metric:3.47436-0.22474-3.45905-0.21154.h5\n",
            "51/51 [==============================] - 21s 410ms/step - loss: 3.4744 - categorical_accuracy: 0.2247 - val_loss: 3.4590 - val_categorical_accuracy: 0.2115 - lr: 0.0100\n",
            "Epoch 4/20\n",
            "51/51 [==============================] - ETA: 0s - loss: 3.4429 - categorical_accuracy: 0.2308\n",
            "Epoch 4: val_loss improved from 3.45905 to 3.43374, saving model to 10img_20epoch_00_2022-06-0119_45_11.251181/metric:3.44293-0.23077-3.43374-0.18269.h5\n",
            "51/51 [==============================] - 20s 402ms/step - loss: 3.4429 - categorical_accuracy: 0.2308 - val_loss: 3.4337 - val_categorical_accuracy: 0.1827 - lr: 0.0100\n",
            "Epoch 5/20\n",
            "51/51 [==============================] - ETA: 0s - loss: 3.4133 - categorical_accuracy: 0.2323\n",
            "Epoch 5: val_loss improved from 3.43374 to 3.39955, saving model to 10img_20epoch_00_2022-06-0119_45_11.251181/metric:3.41332-0.23228-3.39955-0.25962.h5\n",
            "51/51 [==============================] - 20s 403ms/step - loss: 3.4133 - categorical_accuracy: 0.2323 - val_loss: 3.3996 - val_categorical_accuracy: 0.2596 - lr: 0.0100\n",
            "Epoch 6/20\n",
            "51/51 [==============================] - ETA: 0s - loss: 3.3833 - categorical_accuracy: 0.2413\n",
            "Epoch 6: val_loss improved from 3.39955 to 3.37522, saving model to 10img_20epoch_00_2022-06-0119_45_11.251181/metric:3.38326-0.24133-3.37522-0.26923.h5\n",
            "51/51 [==============================] - 21s 409ms/step - loss: 3.3833 - categorical_accuracy: 0.2413 - val_loss: 3.3752 - val_categorical_accuracy: 0.2692 - lr: 0.0100\n",
            "Epoch 7/20\n",
            "51/51 [==============================] - ETA: 0s - loss: 3.3502 - categorical_accuracy: 0.2851\n",
            "Epoch 7: val_loss improved from 3.37522 to 3.34721, saving model to 10img_20epoch_00_2022-06-0119_45_11.251181/metric:3.35023-0.28507-3.34721-0.22115.h5\n",
            "51/51 [==============================] - 20s 405ms/step - loss: 3.3502 - categorical_accuracy: 0.2851 - val_loss: 3.3472 - val_categorical_accuracy: 0.2212 - lr: 0.0100\n",
            "Epoch 8/20\n",
            "51/51 [==============================] - ETA: 0s - loss: 3.3229 - categorical_accuracy: 0.2624\n",
            "Epoch 8: val_loss improved from 3.34721 to 3.31588, saving model to 10img_20epoch_00_2022-06-0119_45_11.251181/metric:3.32290-0.26244-3.31588-0.28846.h5\n",
            "51/51 [==============================] - 21s 413ms/step - loss: 3.3229 - categorical_accuracy: 0.2624 - val_loss: 3.3159 - val_categorical_accuracy: 0.2885 - lr: 0.0100\n",
            "Epoch 9/20\n",
            "51/51 [==============================] - ETA: 0s - loss: 3.2870 - categorical_accuracy: 0.2866\n",
            "Epoch 9: val_loss improved from 3.31588 to 3.28324, saving model to 10img_20epoch_00_2022-06-0119_45_11.251181/metric:3.28698-0.28658-3.28324-0.42308.h5\n",
            "51/51 [==============================] - 21s 411ms/step - loss: 3.2870 - categorical_accuracy: 0.2866 - val_loss: 3.2832 - val_categorical_accuracy: 0.4231 - lr: 0.0100\n",
            "Epoch 10/20\n",
            "51/51 [==============================] - ETA: 0s - loss: 3.2581 - categorical_accuracy: 0.2836\n",
            "Epoch 10: val_loss improved from 3.28324 to 3.25134, saving model to 10img_20epoch_00_2022-06-0119_45_11.251181/metric:3.25807-0.28356-3.25134-0.30769.h5\n",
            "51/51 [==============================] - 21s 423ms/step - loss: 3.2581 - categorical_accuracy: 0.2836 - val_loss: 3.2513 - val_categorical_accuracy: 0.3077 - lr: 0.0100\n",
            "Epoch 11/20\n",
            "51/51 [==============================] - ETA: 0s - loss: 3.2262 - categorical_accuracy: 0.3318\n",
            "Epoch 11: val_loss improved from 3.25134 to 3.22437, saving model to 10img_20epoch_00_2022-06-0119_45_11.251181/metric:3.22618-0.33183-3.22437-0.34615.h5\n",
            "51/51 [==============================] - 21s 410ms/step - loss: 3.2262 - categorical_accuracy: 0.3318 - val_loss: 3.2244 - val_categorical_accuracy: 0.3462 - lr: 0.0100\n",
            "Epoch 12/20\n",
            "51/51 [==============================] - ETA: 0s - loss: 3.1965 - categorical_accuracy: 0.2881\n",
            "Epoch 12: val_loss improved from 3.22437 to 3.20726, saving model to 10img_20epoch_00_2022-06-0119_45_11.251181/metric:3.19646-0.28808-3.20726-0.28846.h5\n",
            "51/51 [==============================] - 21s 415ms/step - loss: 3.1965 - categorical_accuracy: 0.2881 - val_loss: 3.2073 - val_categorical_accuracy: 0.2885 - lr: 0.0100\n",
            "Epoch 13/20\n",
            "51/51 [==============================] - ETA: 0s - loss: 3.1611 - categorical_accuracy: 0.3469\n",
            "Epoch 13: val_loss improved from 3.20726 to 3.16301, saving model to 10img_20epoch_00_2022-06-0119_45_11.251181/metric:3.16109-0.34691-3.16301-0.25962.h5\n",
            "51/51 [==============================] - 22s 429ms/step - loss: 3.1611 - categorical_accuracy: 0.3469 - val_loss: 3.1630 - val_categorical_accuracy: 0.2596 - lr: 0.0100\n",
            "Epoch 14/20\n",
            "51/51 [==============================] - ETA: 0s - loss: 3.1351 - categorical_accuracy: 0.3379\n",
            "Epoch 14: val_loss improved from 3.16301 to 3.13323, saving model to 10img_20epoch_00_2022-06-0119_45_11.251181/metric:3.13511-0.33786-3.13323-0.32692.h5\n",
            "51/51 [==============================] - 21s 427ms/step - loss: 3.1351 - categorical_accuracy: 0.3379 - val_loss: 3.1332 - val_categorical_accuracy: 0.3269 - lr: 0.0100\n",
            "Epoch 15/20\n",
            "51/51 [==============================] - ETA: 0s - loss: 3.0980 - categorical_accuracy: 0.3665\n",
            "Epoch 15: val_loss improved from 3.13323 to 3.11328, saving model to 10img_20epoch_00_2022-06-0119_45_11.251181/metric:3.09798-0.36652-3.11328-0.45192.h5\n",
            "51/51 [==============================] - 21s 424ms/step - loss: 3.0980 - categorical_accuracy: 0.3665 - val_loss: 3.1133 - val_categorical_accuracy: 0.4519 - lr: 0.0100\n",
            "Epoch 16/20\n",
            "51/51 [==============================] - ETA: 0s - loss: 3.0641 - categorical_accuracy: 0.3710\n",
            "Epoch 16: val_loss improved from 3.11328 to 3.09515, saving model to 10img_20epoch_00_2022-06-0119_45_11.251181/metric:3.06406-0.37104-3.09515-0.36538.h5\n",
            "51/51 [==============================] - 21s 427ms/step - loss: 3.0641 - categorical_accuracy: 0.3710 - val_loss: 3.0951 - val_categorical_accuracy: 0.3654 - lr: 0.0100\n",
            "Epoch 17/20\n",
            "51/51 [==============================] - ETA: 0s - loss: 3.0303 - categorical_accuracy: 0.3620\n",
            "Epoch 17: val_loss improved from 3.09515 to 3.05276, saving model to 10img_20epoch_00_2022-06-0119_45_11.251181/metric:3.03027-0.36199-3.05276-0.34615.h5\n",
            "51/51 [==============================] - 22s 433ms/step - loss: 3.0303 - categorical_accuracy: 0.3620 - val_loss: 3.0528 - val_categorical_accuracy: 0.3462 - lr: 0.0100\n",
            "Epoch 18/20\n",
            "51/51 [==============================] - ETA: 0s - loss: 2.9887 - categorical_accuracy: 0.3725\n",
            "Epoch 18: val_loss improved from 3.05276 to 3.04128, saving model to 10img_20epoch_00_2022-06-0119_45_11.251181/metric:2.98868-0.37255-3.04128-0.34615.h5\n",
            "51/51 [==============================] - 22s 434ms/step - loss: 2.9887 - categorical_accuracy: 0.3725 - val_loss: 3.0413 - val_categorical_accuracy: 0.3462 - lr: 0.0100\n",
            "Epoch 19/20\n",
            "51/51 [==============================] - ETA: 0s - loss: 2.9650 - categorical_accuracy: 0.3952\n",
            "Epoch 19: val_loss improved from 3.04128 to 3.00442, saving model to 10img_20epoch_00_2022-06-0119_45_11.251181/metric:2.96501-0.39517-3.00442-0.39423.h5\n",
            "51/51 [==============================] - 21s 421ms/step - loss: 2.9650 - categorical_accuracy: 0.3952 - val_loss: 3.0044 - val_categorical_accuracy: 0.3942 - lr: 0.0100\n",
            "Epoch 20/20\n",
            "51/51 [==============================] - ETA: 0s - loss: 2.9256 - categorical_accuracy: 0.3831\n",
            "Epoch 20: val_loss improved from 3.00442 to 2.99278, saving model to 10img_20epoch_00_2022-06-0119_45_11.251181/metric:2.92563-0.38311-2.99278-0.33654.h5\n",
            "51/51 [==============================] - 21s 414ms/step - loss: 2.9256 - categorical_accuracy: 0.3831 - val_loss: 2.9928 - val_categorical_accuracy: 0.3365 - lr: 0.0100\n"
          ]
        }
      ],
      "source": [
        "history=model.fit(train_generator, steps_per_epoch=steps_per_epoch, epochs=num_epochs, verbose=1, \n",
        "                    validation_data=val_generator, callbacks=callbacks_list,\n",
        "                    validation_steps=validation_steps, class_weight=None, workers=1, initial_epoch=0)"
      ]
    },
    {
      "cell_type": "code",
      "execution_count": 40,
      "metadata": {
        "colab": {
          "base_uri": "https://localhost:8080/",
          "height": 499
        },
        "outputId": "6da5a58d-a598-49b1-bfd7-f23567599167",
        "id": "xfucFYAL6ekS"
      },
      "outputs": [
        {
          "output_type": "display_data",
          "data": {
            "text/plain": [
              "<Figure size 576x576 with 2 Axes>"
            ],
            "image/png": "[encoded data removed]"
          },
          "metadata": {
            "needs_background": "light"
          }
        }
      ],
      "source": [
        "epochs=num_epochs\n",
        "plot_history(history) \n",
        " "
      ]
    },
    {
      "cell_type": "markdown",
      "source": [
        "########seems we over_regularized and hence underfitting"
      ],
      "metadata": {
        "id": "NCmwo-c5FdjI"
      }
    },
    {
      "cell_type": "code",
      "source": [
        ""
      ],
      "metadata": {
        "id": "0qhVK4St-Ugo"
      },
      "execution_count": null,
      "outputs": []
    },
    {
      "cell_type": "markdown",
      "metadata": {
        "id": "XUPfHNEpE0Qy"
      },
      "source": [
        "## Model\n",
        "using conv2d and lstm :Removing overfitting as seen in previous model"
      ]
    },
    {
      "cell_type": "code",
      "execution_count": 64,
      "metadata": {
        "id": "ZAlZ75x0E0Qz"
      },
      "outputs": [],
      "source": [
        "#Hyperparameters\n",
        "batch_size = 39\n",
        "num_imges=5\n",
        "num_epochs=100\n",
        "def model_skeleton(input_shape=input_shape):\n",
        "     model = Sequential()\n",
        "     # define CNN model\n",
        "     model.add(TimeDistributed(Conv2D(32, kernel_size=(3, 3), activation='relu',padding=\"same\",kernel_regularizer=regularizers.l2(l=0.001)),input_shape=input_shape))\n",
        "     model.add(TimeDistributed(Conv2D(32, kernel_size=(2, 2), activation='relu',padding=\"same\",kernel_regularizer=regularizers.l2(l=0.001))))\n",
        "     model.add(TimeDistributed(MaxPooling2D(pool_size=(3, 3))))\n",
        "     model.add(TimeDistributed(Dropout(0.25)))\n",
        "     model.add(TimeDistributed(Conv2D(64, kernel_size=(3, 3), activation='relu',padding=\"same\",kernel_regularizer=regularizers.l2(l=0.001)),input_shape=input_shape))\n",
        "     model.add(TimeDistributed(Conv2D(128, kernel_size=(2, 2), activation='relu',padding=\"same\",kernel_regularizer=regularizers.l2(l=0.001))))\n",
        "     model.add(TimeDistributed(MaxPooling2D(pool_size=(3, 3))))\n",
        "     model.add(TimeDistributed(Dropout(0.3)))\n",
        "     model.add(TimeDistributed(Flatten()))\n",
        "     # define LSTM model\n",
        "     model.add(LSTM(100,return_sequences=False,input_shape=(5,1,1)))\n",
        "     model.add(Dense(128, activation='relu'))\n",
        "     model.add(Dense(5, activation='softmax') )\n",
        "     return model\n",
        "model=model_skeleton(input_shape)"
      ]
    },
    {
      "cell_type": "markdown",
      "metadata": {
        "id": "Sono1RZnE0Q0"
      },
      "source": [
        "Now that you have written the model, the next step is to `compile` the model. When you print the `summary` of the model, you'll see the total number of parameters you have to train."
      ]
    },
    {
      "cell_type": "code",
      "execution_count": 65,
      "metadata": {
        "scrolled": true,
        "colab": {
          "base_uri": "https://localhost:8080/"
        },
        "outputId": "ba50ac54-186a-4bd0-d2a5-5d2db14b0807",
        "id": "x_N-inU2E0Q0"
      },
      "outputs": [
        {
          "output_type": "stream",
          "name": "stdout",
          "text": [
            "Model: \"sequential_9\"\n",
            "_________________________________________________________________\n",
            " Layer (type)                Output Shape              Param #   \n",
            "=================================================================\n",
            " time_distributed_58 (TimeDi  (None, 5, 120, 160, 32)  896       \n",
            " stributed)                                                      \n",
            "                                                                 \n",
            " time_distributed_59 (TimeDi  (None, 5, 120, 160, 32)  4128      \n",
            " stributed)                                                      \n",
            "                                                                 \n",
            " time_distributed_60 (TimeDi  (None, 5, 40, 53, 32)    0         \n",
            " stributed)                                                      \n",
            "                                                                 \n",
            " time_distributed_61 (TimeDi  (None, 5, 40, 53, 32)    0         \n",
            " stributed)                                                      \n",
            "                                                                 \n",
            " time_distributed_62 (TimeDi  (None, 5, 40, 53, 64)    18496     \n",
            " stributed)                                                      \n",
            "                                                                 \n",
            " time_distributed_63 (TimeDi  (None, 5, 40, 53, 128)   32896     \n",
            " stributed)                                                      \n",
            "                                                                 \n",
            " time_distributed_64 (TimeDi  (None, 5, 13, 17, 128)   0         \n",
            " stributed)                                                      \n",
            "                                                                 \n",
            " time_distributed_65 (TimeDi  (None, 5, 13, 17, 128)   0         \n",
            " stributed)                                                      \n",
            "                                                                 \n",
            " time_distributed_66 (TimeDi  (None, 5, 28288)         0         \n",
            " stributed)                                                      \n",
            "                                                                 \n",
            " lstm_7 (LSTM)               (None, 100)               11355600  \n",
            "                                                                 \n",
            " dense_12 (Dense)            (None, 128)               12928     \n",
            "                                                                 \n",
            " dense_13 (Dense)            (None, 5)                 645       \n",
            "                                                                 \n",
            "=================================================================\n",
            "Total params: 11,425,589\n",
            "Trainable params: 11,425,589\n",
            "Non-trainable params: 0\n",
            "_________________________________________________________________\n"
          ]
        }
      ],
      "source": [
        "decay_steps=663*num_imges*num_epochs\n",
        "\n",
        "model.compile(optimizer=tf.keras.optimizers.Adadelta(learning_rate=0.1),\n",
        "              loss=tf.keras.losses.categorical_crossentropy,\n",
        "              metrics=[tf.keras.metrics.CategoricalAccuracy()])\n",
        "\n",
        "model.build(input_shape) \n",
        "model.summary()"
      ]
    },
    {
      "cell_type": "markdown",
      "metadata": {
        "id": "aC-HBSfYE0Q1"
      },
      "source": [
        "Let us create the `train_generator` and the `val_generator` which will be used in `.fit_generator`."
      ]
    },
    {
      "cell_type": "code",
      "execution_count": 66,
      "metadata": {
        "id": "nD8mEXDSE0Q1"
      },
      "outputs": [],
      "source": [
        "train_generator = generator(train_path, train_doc, batch_size,1)\n",
        "val_generator = generator(test_path, val_doc, batch_size,1)"
      ]
    },
    {
      "cell_type": "code",
      "execution_count": 67,
      "metadata": {
        "id": "aIqgKEBaE0Q2"
      },
      "outputs": [],
      "source": [
        "os.environ['TF_FORCE_GPU_ALLOW_GROWTH'] = 'true'"
      ]
    },
    {
      "cell_type": "code",
      "execution_count": 68,
      "metadata": {
        "id": "qeSbhJQDE0Q2"
      },
      "outputs": [],
      "source": [
        "if (num_train_sequences%batch_size) == 0:\n",
        "    steps_per_epoch = int(num_train_sequences/batch_size)\n",
        "else:\n",
        "    steps_per_epoch = (num_train_sequences//batch_size) + 1\n",
        "\n",
        "if (num_val_sequences%batch_size) == 0:\n",
        "    validation_steps = int(num_val_sequences/batch_size)\n",
        "else:\n",
        "    validation_steps = (num_val_sequences//batch_size) + 1"
      ]
    },
    {
      "cell_type": "code",
      "execution_count": 69,
      "metadata": {
        "id": "X2eut9QkE0Q2"
      },
      "outputs": [],
      "source": [
        "###_callback\n",
        "model_name = '10img_20epoch_00' + '_' + str(curr_dt_time).replace(' ','').replace(':','_') + '/'\n",
        "if not os.path.exists(model_name):\n",
        "    os.mkdir(model_name)        \n",
        "filepath = model_name + \"metric:{loss:.5f}-{categorical_accuracy:.5f}-{val_loss:.5f}-{val_categorical_accuracy:.5f}.h5\"\n",
        "checkpoint = ModelCheckpoint(filepath,monitor='val_loss', verbose=1, save_best_only=True, save_weights_only=True, mode='auto', save_freq=\"epoch\")\n",
        "LR = ReduceLROnPlateau(monitor='val_loss', factor=0.1,\n",
        "                              patience=2, min_lr=0.0001)\n",
        "callbacks_list = [checkpoint,LR]\n"
      ]
    },
    {
      "cell_type": "code",
      "source": [
        ""
      ],
      "metadata": {
        "id": "2JuAN-0PE0Q3"
      },
      "execution_count": 69,
      "outputs": []
    },
    {
      "cell_type": "code",
      "execution_count": 70,
      "metadata": {
        "colab": {
          "base_uri": "https://localhost:8080/"
        },
        "outputId": "8696b62c-e46e-4e08-df49-721f772c2f1b",
        "id": "mIYYLtEBE0Q3"
      },
      "outputs": [
        {
          "output_type": "stream",
          "name": "stdout",
          "text": [
            "Source path =  /content/drive/MyDrive/Project_data/Project_data/train ; batch size = 39\n",
            "Epoch 1/100\n",
            "17/17 [==============================] - ETA: 0s - loss: 1.7826 - categorical_accuracy: 0.1780 Source path =  /content/drive/MyDrive/Project_data/Project_data/val ; batch size = 39\n",
            "\n",
            "Epoch 1: val_loss improved from inf to 1.77008, saving model to 10img_20epoch_00_2022-06-0119_45_11.251181/metric:1.78261-0.17798-1.77008-0.17949.h5\n",
            "17/17 [==============================] - 433s 20s/step - loss: 1.7826 - categorical_accuracy: 0.1780 - val_loss: 1.7701 - val_categorical_accuracy: 0.1795 - lr: 0.1000\n",
            "Epoch 2/100\n",
            "17/17 [==============================] - ETA: 0s - loss: 1.7713 - categorical_accuracy: 0.2157\n",
            "Epoch 2: val_loss improved from 1.77008 to 1.75455, saving model to 10img_20epoch_00_2022-06-0119_45_11.251181/metric:1.77127-0.21569-1.75455-0.23932.h5\n",
            "17/17 [==============================] - 18s 1s/step - loss: 1.7713 - categorical_accuracy: 0.2157 - val_loss: 1.7545 - val_categorical_accuracy: 0.2393 - lr: 0.1000\n",
            "Epoch 3/100\n",
            "17/17 [==============================] - ETA: 0s - loss: 1.7587 - categorical_accuracy: 0.2338\n",
            "Epoch 3: val_loss improved from 1.75455 to 1.75352, saving model to 10img_20epoch_00_2022-06-0119_45_11.251181/metric:1.75866-0.23379-1.75352-0.21368.h5\n",
            "17/17 [==============================] - 22s 1s/step - loss: 1.7587 - categorical_accuracy: 0.2338 - val_loss: 1.7535 - val_categorical_accuracy: 0.2137 - lr: 0.1000\n",
            "Epoch 4/100\n",
            "17/17 [==============================] - ETA: 0s - loss: 1.7415 - categorical_accuracy: 0.2715\n",
            "Epoch 4: val_loss improved from 1.75352 to 1.74080, saving model to 10img_20epoch_00_2022-06-0119_45_11.251181/metric:1.74149-0.27149-1.74080-0.24786.h5\n",
            "17/17 [==============================] - 17s 1s/step - loss: 1.7415 - categorical_accuracy: 0.2715 - val_loss: 1.7408 - val_categorical_accuracy: 0.2479 - lr: 0.1000\n",
            "Epoch 5/100\n",
            "17/17 [==============================] - ETA: 0s - loss: 1.7211 - categorical_accuracy: 0.3107\n",
            "Epoch 5: val_loss improved from 1.74080 to 1.72329, saving model to 10img_20epoch_00_2022-06-0119_45_11.251181/metric:1.72111-0.31071-1.72329-0.25641.h5\n",
            "17/17 [==============================] - 17s 1s/step - loss: 1.7211 - categorical_accuracy: 0.3107 - val_loss: 1.7233 - val_categorical_accuracy: 0.2564 - lr: 0.1000\n",
            "Epoch 6/100\n",
            "17/17 [==============================] - ETA: 0s - loss: 1.6934 - categorical_accuracy: 0.3167\n",
            "Epoch 6: val_loss improved from 1.72329 to 1.68464, saving model to 10img_20epoch_00_2022-06-0119_45_11.251181/metric:1.69344-0.31674-1.68464-0.41880.h5\n",
            "17/17 [==============================] - 17s 1s/step - loss: 1.6934 - categorical_accuracy: 0.3167 - val_loss: 1.6846 - val_categorical_accuracy: 0.4188 - lr: 0.1000\n",
            "Epoch 7/100\n",
            "17/17 [==============================] - ETA: 0s - loss: 1.6934 - categorical_accuracy: 0.3303\n",
            "Epoch 7: val_loss improved from 1.68464 to 1.68083, saving model to 10img_20epoch_00_2022-06-0119_45_11.251181/metric:1.69338-0.33032-1.68083-0.35043.h5\n",
            "17/17 [==============================] - 17s 1s/step - loss: 1.6934 - categorical_accuracy: 0.3303 - val_loss: 1.6808 - val_categorical_accuracy: 0.3504 - lr: 0.1000\n",
            "Epoch 8/100\n",
            "17/17 [==============================] - ETA: 0s - loss: 1.6452 - categorical_accuracy: 0.3575\n",
            "Epoch 8: val_loss improved from 1.68083 to 1.61739, saving model to 10img_20epoch_00_2022-06-0119_45_11.251181/metric:1.64524-0.35747-1.61739-0.34188.h5\n",
            "17/17 [==============================] - 17s 1s/step - loss: 1.6452 - categorical_accuracy: 0.3575 - val_loss: 1.6174 - val_categorical_accuracy: 0.3419 - lr: 0.1000\n",
            "Epoch 9/100\n",
            "17/17 [==============================] - ETA: 0s - loss: 1.6158 - categorical_accuracy: 0.3816\n",
            "Epoch 9: val_loss did not improve from 1.61739\n",
            "17/17 [==============================] - 17s 1s/step - loss: 1.6158 - categorical_accuracy: 0.3816 - val_loss: 1.6756 - val_categorical_accuracy: 0.3761 - lr: 0.1000\n",
            "Epoch 10/100\n",
            "17/17 [==============================] - ETA: 0s - loss: 1.5813 - categorical_accuracy: 0.4072\n",
            "Epoch 10: val_loss improved from 1.61739 to 1.57334, saving model to 10img_20epoch_00_2022-06-0119_45_11.251181/metric:1.58133-0.40724-1.57334-0.44444.h5\n",
            "17/17 [==============================] - 17s 1s/step - loss: 1.5813 - categorical_accuracy: 0.4072 - val_loss: 1.5733 - val_categorical_accuracy: 0.4444 - lr: 0.1000\n",
            "Epoch 11/100\n",
            "17/17 [==============================] - ETA: 0s - loss: 1.5474 - categorical_accuracy: 0.4193\n",
            "Epoch 11: val_loss did not improve from 1.57334\n",
            "17/17 [==============================] - 17s 1s/step - loss: 1.5474 - categorical_accuracy: 0.4193 - val_loss: 1.5902 - val_categorical_accuracy: 0.4188 - lr: 0.1000\n",
            "Epoch 12/100\n",
            "17/17 [==============================] - ETA: 0s - loss: 1.4913 - categorical_accuracy: 0.4359\n",
            "Epoch 12: val_loss improved from 1.57334 to 1.49756, saving model to 10img_20epoch_00_2022-06-0119_45_11.251181/metric:1.49127-0.43590-1.49756-0.46154.h5\n",
            "17/17 [==============================] - 17s 1s/step - loss: 1.4913 - categorical_accuracy: 0.4359 - val_loss: 1.4976 - val_categorical_accuracy: 0.4615 - lr: 0.1000\n",
            "Epoch 13/100\n",
            "17/17 [==============================] - ETA: 0s - loss: 1.4740 - categorical_accuracy: 0.4887\n",
            "Epoch 13: val_loss did not improve from 1.49756\n",
            "17/17 [==============================] - 18s 1s/step - loss: 1.4740 - categorical_accuracy: 0.4887 - val_loss: 1.5742 - val_categorical_accuracy: 0.4701 - lr: 0.1000\n",
            "Epoch 14/100\n",
            "17/17 [==============================] - ETA: 0s - loss: 1.4217 - categorical_accuracy: 0.4917\n",
            "Epoch 14: val_loss did not improve from 1.49756\n",
            "17/17 [==============================] - 17s 1s/step - loss: 1.4217 - categorical_accuracy: 0.4917 - val_loss: 1.5182 - val_categorical_accuracy: 0.4615 - lr: 0.1000\n",
            "Epoch 15/100\n",
            "17/17 [==============================] - ETA: 0s - loss: 1.3400 - categorical_accuracy: 0.5370\n",
            "Epoch 15: val_loss improved from 1.49756 to 1.47593, saving model to 10img_20epoch_00_2022-06-0119_45_11.251181/metric:1.34003-0.53695-1.47593-0.45299.h5\n",
            "17/17 [==============================] - 17s 1s/step - loss: 1.3400 - categorical_accuracy: 0.5370 - val_loss: 1.4759 - val_categorical_accuracy: 0.4530 - lr: 0.0100\n",
            "Epoch 16/100\n",
            "17/17 [==============================] - ETA: 0s - loss: 1.2944 - categorical_accuracy: 0.5716\n",
            "Epoch 16: val_loss improved from 1.47593 to 1.44070, saving model to 10img_20epoch_00_2022-06-0119_45_11.251181/metric:1.29442-0.57164-1.44070-0.42735.h5\n",
            "17/17 [==============================] - 17s 1s/step - loss: 1.2944 - categorical_accuracy: 0.5716 - val_loss: 1.4407 - val_categorical_accuracy: 0.4274 - lr: 0.0100\n",
            "Epoch 17/100\n",
            "17/17 [==============================] - ETA: 0s - loss: 1.2733 - categorical_accuracy: 0.5867\n",
            "Epoch 17: val_loss did not improve from 1.44070\n",
            "17/17 [==============================] - 17s 1s/step - loss: 1.2733 - categorical_accuracy: 0.5867 - val_loss: 1.4620 - val_categorical_accuracy: 0.4615 - lr: 0.0100\n",
            "Epoch 18/100\n",
            "17/17 [==============================] - ETA: 0s - loss: 1.2558 - categorical_accuracy: 0.5837\n",
            "Epoch 18: val_loss did not improve from 1.44070\n",
            "17/17 [==============================] - 17s 1s/step - loss: 1.2558 - categorical_accuracy: 0.5837 - val_loss: 1.4571 - val_categorical_accuracy: 0.4188 - lr: 0.0100\n",
            "Epoch 19/100\n",
            "17/17 [==============================] - ETA: 0s - loss: 1.2421 - categorical_accuracy: 0.5913\n",
            "Epoch 19: val_loss improved from 1.44070 to 1.40309, saving model to 10img_20epoch_00_2022-06-0119_45_11.251181/metric:1.24209-0.59125-1.40309-0.50427.h5\n",
            "17/17 [==============================] - 17s 1s/step - loss: 1.2421 - categorical_accuracy: 0.5913 - val_loss: 1.4031 - val_categorical_accuracy: 0.5043 - lr: 1.0000e-03\n",
            "Epoch 20/100\n",
            "17/17 [==============================] - ETA: 0s - loss: 1.2379 - categorical_accuracy: 0.6003\n",
            "Epoch 20: val_loss did not improve from 1.40309\n",
            "17/17 [==============================] - 17s 1s/step - loss: 1.2379 - categorical_accuracy: 0.6003 - val_loss: 1.4153 - val_categorical_accuracy: 0.4957 - lr: 1.0000e-03\n",
            "Epoch 21/100\n",
            "17/17 [==============================] - ETA: 0s - loss: 1.2347 - categorical_accuracy: 0.6018\n",
            "Epoch 21: val_loss did not improve from 1.40309\n",
            "17/17 [==============================] - 17s 1s/step - loss: 1.2347 - categorical_accuracy: 0.6018 - val_loss: 1.4561 - val_categorical_accuracy: 0.4274 - lr: 1.0000e-03\n",
            "Epoch 22/100\n",
            "17/17 [==============================] - ETA: 0s - loss: 1.2384 - categorical_accuracy: 0.6018\n",
            "Epoch 22: val_loss did not improve from 1.40309\n",
            "17/17 [==============================] - 17s 1s/step - loss: 1.2384 - categorical_accuracy: 0.6018 - val_loss: 1.4482 - val_categorical_accuracy: 0.4444 - lr: 1.0000e-04\n",
            "Epoch 23/100\n",
            "17/17 [==============================] - ETA: 0s - loss: 1.2352 - categorical_accuracy: 0.5837\n",
            "Epoch 23: val_loss did not improve from 1.40309\n",
            "17/17 [==============================] - 17s 1s/step - loss: 1.2352 - categorical_accuracy: 0.5837 - val_loss: 1.4654 - val_categorical_accuracy: 0.4188 - lr: 1.0000e-04\n",
            "Epoch 24/100\n",
            "17/17 [==============================] - ETA: 0s - loss: 1.2360 - categorical_accuracy: 0.6018\n",
            "Epoch 24: val_loss did not improve from 1.40309\n",
            "17/17 [==============================] - 17s 1s/step - loss: 1.2360 - categorical_accuracy: 0.6018 - val_loss: 1.4537 - val_categorical_accuracy: 0.4444 - lr: 1.0000e-04\n",
            "Epoch 25/100\n",
            "17/17 [==============================] - ETA: 0s - loss: 1.2324 - categorical_accuracy: 0.5882\n",
            "Epoch 25: val_loss did not improve from 1.40309\n",
            "17/17 [==============================] - 18s 1s/step - loss: 1.2324 - categorical_accuracy: 0.5882 - val_loss: 1.4419 - val_categorical_accuracy: 0.4530 - lr: 1.0000e-04\n",
            "Epoch 26/100\n",
            "17/17 [==============================] - ETA: 0s - loss: 1.2359 - categorical_accuracy: 0.6003\n",
            "Epoch 26: val_loss improved from 1.40309 to 1.38867, saving model to 10img_20epoch_00_2022-06-0119_45_11.251181/metric:1.23585-0.60030-1.38867-0.50427.h5\n",
            "17/17 [==============================] - 17s 1s/step - loss: 1.2359 - categorical_accuracy: 0.6003 - val_loss: 1.3887 - val_categorical_accuracy: 0.5043 - lr: 1.0000e-04\n",
            "Epoch 27/100\n",
            "17/17 [==============================] - ETA: 0s - loss: 1.2329 - categorical_accuracy: 0.5897\n",
            "Epoch 27: val_loss did not improve from 1.38867\n",
            "17/17 [==============================] - 18s 1s/step - loss: 1.2329 - categorical_accuracy: 0.5897 - val_loss: 1.4258 - val_categorical_accuracy: 0.4701 - lr: 1.0000e-04\n",
            "Epoch 28/100\n",
            "17/17 [==============================] - ETA: 0s - loss: 1.2353 - categorical_accuracy: 0.5882\n",
            "Epoch 28: val_loss did not improve from 1.38867\n",
            "17/17 [==============================] - 17s 1s/step - loss: 1.2353 - categorical_accuracy: 0.5882 - val_loss: 1.5073 - val_categorical_accuracy: 0.4017 - lr: 1.0000e-04\n",
            "Epoch 29/100\n",
            "17/17 [==============================] - ETA: 0s - loss: 1.2346 - categorical_accuracy: 0.5913\n",
            "Epoch 29: val_loss improved from 1.38867 to 1.37392, saving model to 10img_20epoch_00_2022-06-0119_45_11.251181/metric:1.23464-0.59125-1.37392-0.51282.h5\n",
            "17/17 [==============================] - 17s 1s/step - loss: 1.2346 - categorical_accuracy: 0.5913 - val_loss: 1.3739 - val_categorical_accuracy: 0.5128 - lr: 1.0000e-04\n",
            "Epoch 30/100\n",
            "17/17 [==============================] - ETA: 0s - loss: 1.2350 - categorical_accuracy: 0.5973\n",
            "Epoch 30: val_loss did not improve from 1.37392\n",
            "17/17 [==============================] - 17s 1s/step - loss: 1.2350 - categorical_accuracy: 0.5973 - val_loss: 1.4332 - val_categorical_accuracy: 0.4530 - lr: 1.0000e-04\n",
            "Epoch 31/100\n",
            "17/17 [==============================] - ETA: 0s - loss: 1.2373 - categorical_accuracy: 0.6003\n",
            "Epoch 31: val_loss did not improve from 1.37392\n",
            "17/17 [==============================] - 17s 1s/step - loss: 1.2373 - categorical_accuracy: 0.6003 - val_loss: 1.4548 - val_categorical_accuracy: 0.4274 - lr: 1.0000e-04\n",
            "Epoch 32/100\n",
            "17/17 [==============================] - ETA: 0s - loss: 1.2320 - categorical_accuracy: 0.6003\n",
            "Epoch 32: val_loss did not improve from 1.37392\n",
            "17/17 [==============================] - 17s 1s/step - loss: 1.2320 - categorical_accuracy: 0.6003 - val_loss: 1.4623 - val_categorical_accuracy: 0.4359 - lr: 1.0000e-04\n",
            "Epoch 33/100\n",
            "17/17 [==============================] - ETA: 0s - loss: 1.2322 - categorical_accuracy: 0.5807\n",
            "Epoch 33: val_loss did not improve from 1.37392\n",
            "17/17 [==============================] - 17s 1s/step - loss: 1.2322 - categorical_accuracy: 0.5807 - val_loss: 1.4314 - val_categorical_accuracy: 0.4872 - lr: 1.0000e-04\n",
            "Epoch 34/100\n",
            "17/17 [==============================] - ETA: 0s - loss: 1.2347 - categorical_accuracy: 0.6018\n",
            "Epoch 34: val_loss did not improve from 1.37392\n",
            "17/17 [==============================] - 17s 1s/step - loss: 1.2347 - categorical_accuracy: 0.6018 - val_loss: 1.4374 - val_categorical_accuracy: 0.4530 - lr: 1.0000e-04\n",
            "Epoch 35/100\n",
            "17/17 [==============================] - ETA: 0s - loss: 1.2311 - categorical_accuracy: 0.5973\n",
            "Epoch 35: val_loss did not improve from 1.37392\n",
            "17/17 [==============================] - 17s 1s/step - loss: 1.2311 - categorical_accuracy: 0.5973 - val_loss: 1.4530 - val_categorical_accuracy: 0.4530 - lr: 1.0000e-04\n",
            "Epoch 36/100\n",
            "17/17 [==============================] - ETA: 0s - loss: 1.2338 - categorical_accuracy: 0.5852\n",
            "Epoch 36: val_loss did not improve from 1.37392\n",
            "17/17 [==============================] - 17s 1s/step - loss: 1.2338 - categorical_accuracy: 0.5852 - val_loss: 1.4608 - val_categorical_accuracy: 0.4359 - lr: 1.0000e-04\n",
            "Epoch 37/100\n",
            "17/17 [==============================] - ETA: 0s - loss: 1.2369 - categorical_accuracy: 0.5913\n",
            "Epoch 37: val_loss did not improve from 1.37392\n",
            "17/17 [==============================] - 17s 1s/step - loss: 1.2369 - categorical_accuracy: 0.5913 - val_loss: 1.4388 - val_categorical_accuracy: 0.4786 - lr: 1.0000e-04\n",
            "Epoch 38/100\n",
            "17/17 [==============================] - ETA: 0s - loss: 1.2335 - categorical_accuracy: 0.5958\n",
            "Epoch 38: val_loss did not improve from 1.37392\n",
            "17/17 [==============================] - 17s 1s/step - loss: 1.2335 - categorical_accuracy: 0.5958 - val_loss: 1.4507 - val_categorical_accuracy: 0.4530 - lr: 1.0000e-04\n",
            "Epoch 39/100\n",
            "17/17 [==============================] - ETA: 0s - loss: 1.2329 - categorical_accuracy: 0.5882\n",
            "Epoch 39: val_loss did not improve from 1.37392\n",
            "17/17 [==============================] - 17s 1s/step - loss: 1.2329 - categorical_accuracy: 0.5882 - val_loss: 1.5013 - val_categorical_accuracy: 0.4274 - lr: 1.0000e-04\n",
            "Epoch 40/100\n",
            "17/17 [==============================] - ETA: 0s - loss: 1.2275 - categorical_accuracy: 0.6048\n",
            "Epoch 40: val_loss did not improve from 1.37392\n",
            "17/17 [==============================] - 17s 1s/step - loss: 1.2275 - categorical_accuracy: 0.6048 - val_loss: 1.4720 - val_categorical_accuracy: 0.4359 - lr: 1.0000e-04\n",
            "Epoch 41/100\n",
            "17/17 [==============================] - ETA: 0s - loss: 1.2349 - categorical_accuracy: 0.5943\n",
            "Epoch 41: val_loss did not improve from 1.37392\n",
            "17/17 [==============================] - 18s 1s/step - loss: 1.2349 - categorical_accuracy: 0.5943 - val_loss: 1.4307 - val_categorical_accuracy: 0.4274 - lr: 1.0000e-04\n",
            "Epoch 42/100\n",
            "17/17 [==============================] - ETA: 0s - loss: 1.2301 - categorical_accuracy: 0.6003\n",
            "Epoch 42: val_loss did not improve from 1.37392\n",
            "17/17 [==============================] - 18s 1s/step - loss: 1.2301 - categorical_accuracy: 0.6003 - val_loss: 1.4330 - val_categorical_accuracy: 0.4701 - lr: 1.0000e-04\n",
            "Epoch 43/100\n",
            "17/17 [==============================] - ETA: 0s - loss: 1.2340 - categorical_accuracy: 0.5973\n",
            "Epoch 43: val_loss did not improve from 1.37392\n",
            "17/17 [==============================] - 18s 1s/step - loss: 1.2340 - categorical_accuracy: 0.5973 - val_loss: 1.3961 - val_categorical_accuracy: 0.4786 - lr: 1.0000e-04\n",
            "Epoch 44/100\n",
            "17/17 [==============================] - ETA: 0s - loss: 1.2376 - categorical_accuracy: 0.5958\n",
            "Epoch 44: val_loss did not improve from 1.37392\n",
            "17/17 [==============================] - 18s 1s/step - loss: 1.2376 - categorical_accuracy: 0.5958 - val_loss: 1.4704 - val_categorical_accuracy: 0.4274 - lr: 1.0000e-04\n",
            "Epoch 45/100\n",
            "17/17 [==============================] - ETA: 0s - loss: 1.2310 - categorical_accuracy: 0.5958\n",
            "Epoch 45: val_loss did not improve from 1.37392\n",
            "17/17 [==============================] - 18s 1s/step - loss: 1.2310 - categorical_accuracy: 0.5958 - val_loss: 1.4480 - val_categorical_accuracy: 0.4274 - lr: 1.0000e-04\n",
            "Epoch 46/100\n",
            "17/17 [==============================] - ETA: 0s - loss: 1.2305 - categorical_accuracy: 0.6018\n",
            "Epoch 46: val_loss did not improve from 1.37392\n",
            "17/17 [==============================] - 18s 1s/step - loss: 1.2305 - categorical_accuracy: 0.6018 - val_loss: 1.3904 - val_categorical_accuracy: 0.4530 - lr: 1.0000e-04\n",
            "Epoch 47/100\n",
            "17/17 [==============================] - ETA: 0s - loss: 1.2344 - categorical_accuracy: 0.5928\n",
            "Epoch 47: val_loss did not improve from 1.37392\n",
            "17/17 [==============================] - 18s 1s/step - loss: 1.2344 - categorical_accuracy: 0.5928 - val_loss: 1.4533 - val_categorical_accuracy: 0.4274 - lr: 1.0000e-04\n",
            "Epoch 48/100\n",
            "17/17 [==============================] - ETA: 0s - loss: 1.2288 - categorical_accuracy: 0.6003\n",
            "Epoch 48: val_loss did not improve from 1.37392\n",
            "17/17 [==============================] - 18s 1s/step - loss: 1.2288 - categorical_accuracy: 0.6003 - val_loss: 1.4624 - val_categorical_accuracy: 0.4017 - lr: 1.0000e-04\n",
            "Epoch 49/100\n",
            "17/17 [==============================] - ETA: 0s - loss: 1.2305 - categorical_accuracy: 0.6003\n",
            "Epoch 49: val_loss did not improve from 1.37392\n",
            "17/17 [==============================] - 17s 1s/step - loss: 1.2305 - categorical_accuracy: 0.6003 - val_loss: 1.4069 - val_categorical_accuracy: 0.4872 - lr: 1.0000e-04\n",
            "Epoch 50/100\n",
            "17/17 [==============================] - ETA: 0s - loss: 1.2328 - categorical_accuracy: 0.5958\n",
            "Epoch 50: val_loss did not improve from 1.37392\n",
            "17/17 [==============================] - 18s 1s/step - loss: 1.2328 - categorical_accuracy: 0.5958 - val_loss: 1.4251 - val_categorical_accuracy: 0.4872 - lr: 1.0000e-04\n",
            "Epoch 51/100\n",
            "17/17 [==============================] - ETA: 0s - loss: 1.2356 - categorical_accuracy: 0.6003\n",
            "Epoch 51: val_loss did not improve from 1.37392\n",
            "17/17 [==============================] - 18s 1s/step - loss: 1.2356 - categorical_accuracy: 0.6003 - val_loss: 1.4571 - val_categorical_accuracy: 0.4444 - lr: 1.0000e-04\n",
            "Epoch 52/100\n",
            "17/17 [==============================] - ETA: 0s - loss: 1.2317 - categorical_accuracy: 0.6048\n",
            "Epoch 52: val_loss improved from 1.37392 to 1.35521, saving model to 10img_20epoch_00_2022-06-0119_45_11.251181/metric:1.23173-0.60483-1.35521-0.52137.h5\n",
            "17/17 [==============================] - 18s 1s/step - loss: 1.2317 - categorical_accuracy: 0.6048 - val_loss: 1.3552 - val_categorical_accuracy: 0.5214 - lr: 1.0000e-04\n",
            "Epoch 53/100\n",
            "17/17 [==============================] - ETA: 0s - loss: 1.2353 - categorical_accuracy: 0.5943\n",
            "Epoch 53: val_loss did not improve from 1.35521\n",
            "17/17 [==============================] - 18s 1s/step - loss: 1.2353 - categorical_accuracy: 0.5943 - val_loss: 1.4239 - val_categorical_accuracy: 0.4188 - lr: 1.0000e-04\n",
            "Epoch 54/100\n",
            "17/17 [==============================] - ETA: 0s - loss: 1.2320 - categorical_accuracy: 0.5973\n",
            "Epoch 54: val_loss did not improve from 1.35521\n",
            "17/17 [==============================] - 18s 1s/step - loss: 1.2320 - categorical_accuracy: 0.5973 - val_loss: 1.3980 - val_categorical_accuracy: 0.4701 - lr: 1.0000e-04\n",
            "Epoch 55/100\n",
            "17/17 [==============================] - ETA: 0s - loss: 1.2300 - categorical_accuracy: 0.5988\n",
            "Epoch 55: val_loss did not improve from 1.35521\n",
            "17/17 [==============================] - 19s 1s/step - loss: 1.2300 - categorical_accuracy: 0.5988 - val_loss: 1.4223 - val_categorical_accuracy: 0.4274 - lr: 1.0000e-04\n",
            "Epoch 56/100\n",
            "17/17 [==============================] - ETA: 0s - loss: 1.2270 - categorical_accuracy: 0.5958\n",
            "Epoch 56: val_loss did not improve from 1.35521\n",
            "17/17 [==============================] - 18s 1s/step - loss: 1.2270 - categorical_accuracy: 0.5958 - val_loss: 1.4291 - val_categorical_accuracy: 0.4786 - lr: 1.0000e-04\n",
            "Epoch 57/100\n",
            "17/17 [==============================] - ETA: 0s - loss: 1.2333 - categorical_accuracy: 0.5928\n",
            "Epoch 57: val_loss improved from 1.35521 to 1.35280, saving model to 10img_20epoch_00_2022-06-0119_45_11.251181/metric:1.23332-0.59276-1.35280-0.50427.h5\n",
            "17/17 [==============================] - 18s 1s/step - loss: 1.2333 - categorical_accuracy: 0.5928 - val_loss: 1.3528 - val_categorical_accuracy: 0.5043 - lr: 1.0000e-04\n",
            "Epoch 58/100\n",
            "17/17 [==============================] - ETA: 0s - loss: 1.2297 - categorical_accuracy: 0.5943\n",
            "Epoch 58: val_loss did not improve from 1.35280\n",
            "17/17 [==============================] - 17s 1s/step - loss: 1.2297 - categorical_accuracy: 0.5943 - val_loss: 1.4206 - val_categorical_accuracy: 0.4701 - lr: 1.0000e-04\n",
            "Epoch 59/100\n",
            "17/17 [==============================] - ETA: 0s - loss: 1.2293 - categorical_accuracy: 0.5928\n",
            "Epoch 59: val_loss did not improve from 1.35280\n",
            "17/17 [==============================] - 17s 1s/step - loss: 1.2293 - categorical_accuracy: 0.5928 - val_loss: 1.4034 - val_categorical_accuracy: 0.4615 - lr: 1.0000e-04\n",
            "Epoch 60/100\n",
            "17/17 [==============================] - ETA: 0s - loss: 1.2296 - categorical_accuracy: 0.5913\n",
            "Epoch 60: val_loss did not improve from 1.35280\n",
            "17/17 [==============================] - 18s 1s/step - loss: 1.2296 - categorical_accuracy: 0.5913 - val_loss: 1.3985 - val_categorical_accuracy: 0.4615 - lr: 1.0000e-04\n",
            "Epoch 61/100\n",
            "17/17 [==============================] - ETA: 0s - loss: 1.2308 - categorical_accuracy: 0.6018\n",
            "Epoch 61: val_loss did not improve from 1.35280\n",
            "17/17 [==============================] - 17s 1s/step - loss: 1.2308 - categorical_accuracy: 0.6018 - val_loss: 1.4371 - val_categorical_accuracy: 0.4274 - lr: 1.0000e-04\n",
            "Epoch 62/100\n",
            "17/17 [==============================] - ETA: 0s - loss: 1.2318 - categorical_accuracy: 0.6033\n",
            "Epoch 62: val_loss did not improve from 1.35280\n",
            "17/17 [==============================] - 17s 1s/step - loss: 1.2318 - categorical_accuracy: 0.6033 - val_loss: 1.4372 - val_categorical_accuracy: 0.4444 - lr: 1.0000e-04\n",
            "Epoch 63/100\n",
            "17/17 [==============================] - ETA: 0s - loss: 1.2277 - categorical_accuracy: 0.5973\n",
            "Epoch 63: val_loss did not improve from 1.35280\n",
            "17/17 [==============================] - 17s 1s/step - loss: 1.2277 - categorical_accuracy: 0.5973 - val_loss: 1.4414 - val_categorical_accuracy: 0.4274 - lr: 1.0000e-04\n",
            "Epoch 64/100\n",
            "17/17 [==============================] - ETA: 0s - loss: 1.2296 - categorical_accuracy: 0.6018\n",
            "Epoch 64: val_loss did not improve from 1.35280\n",
            "17/17 [==============================] - 17s 1s/step - loss: 1.2296 - categorical_accuracy: 0.6018 - val_loss: 1.4071 - val_categorical_accuracy: 0.4530 - lr: 1.0000e-04\n",
            "Epoch 65/100\n",
            "17/17 [==============================] - ETA: 0s - loss: 1.2313 - categorical_accuracy: 0.5988\n",
            "Epoch 65: val_loss did not improve from 1.35280\n",
            "17/17 [==============================] - 17s 1s/step - loss: 1.2313 - categorical_accuracy: 0.5988 - val_loss: 1.3854 - val_categorical_accuracy: 0.4957 - lr: 1.0000e-04\n",
            "Epoch 66/100\n",
            "17/17 [==============================] - ETA: 0s - loss: 1.2306 - categorical_accuracy: 0.6003\n",
            "Epoch 66: val_loss did not improve from 1.35280\n",
            "17/17 [==============================] - 17s 1s/step - loss: 1.2306 - categorical_accuracy: 0.6003 - val_loss: 1.4147 - val_categorical_accuracy: 0.4701 - lr: 1.0000e-04\n",
            "Epoch 67/100\n",
            "17/17 [==============================] - ETA: 0s - loss: 1.2252 - categorical_accuracy: 0.5882\n",
            "Epoch 67: val_loss did not improve from 1.35280\n",
            "17/17 [==============================] - 17s 1s/step - loss: 1.2252 - categorical_accuracy: 0.5882 - val_loss: 1.4157 - val_categorical_accuracy: 0.4274 - lr: 1.0000e-04\n",
            "Epoch 68/100\n",
            "17/17 [==============================] - ETA: 0s - loss: 1.2283 - categorical_accuracy: 0.5867\n",
            "Epoch 68: val_loss did not improve from 1.35280\n",
            "17/17 [==============================] - 17s 1s/step - loss: 1.2283 - categorical_accuracy: 0.5867 - val_loss: 1.3904 - val_categorical_accuracy: 0.4786 - lr: 1.0000e-04\n",
            "Epoch 69/100\n",
            "17/17 [==============================] - ETA: 0s - loss: 1.2295 - categorical_accuracy: 0.5988\n",
            "Epoch 69: val_loss did not improve from 1.35280\n",
            "17/17 [==============================] - 18s 1s/step - loss: 1.2295 - categorical_accuracy: 0.5988 - val_loss: 1.4652 - val_categorical_accuracy: 0.4444 - lr: 1.0000e-04\n",
            "Epoch 70/100\n",
            "17/17 [==============================] - ETA: 0s - loss: 1.2278 - categorical_accuracy: 0.5973\n",
            "Epoch 70: val_loss did not improve from 1.35280\n",
            "17/17 [==============================] - 17s 1s/step - loss: 1.2278 - categorical_accuracy: 0.5973 - val_loss: 1.4544 - val_categorical_accuracy: 0.4530 - lr: 1.0000e-04\n",
            "Epoch 71/100\n",
            "17/17 [==============================] - ETA: 0s - loss: 1.2292 - categorical_accuracy: 0.6094\n",
            "Epoch 71: val_loss did not improve from 1.35280\n",
            "17/17 [==============================] - 17s 1s/step - loss: 1.2292 - categorical_accuracy: 0.6094 - val_loss: 1.4429 - val_categorical_accuracy: 0.4188 - lr: 1.0000e-04\n",
            "Epoch 72/100\n",
            "17/17 [==============================] - ETA: 0s - loss: 1.2291 - categorical_accuracy: 0.5928\n",
            "Epoch 72: val_loss did not improve from 1.35280\n",
            "17/17 [==============================] - 17s 1s/step - loss: 1.2291 - categorical_accuracy: 0.5928 - val_loss: 1.5020 - val_categorical_accuracy: 0.4017 - lr: 1.0000e-04\n",
            "Epoch 73/100\n",
            "17/17 [==============================] - ETA: 0s - loss: 1.2324 - categorical_accuracy: 0.5928\n",
            "Epoch 73: val_loss did not improve from 1.35280\n",
            "17/17 [==============================] - 17s 1s/step - loss: 1.2324 - categorical_accuracy: 0.5928 - val_loss: 1.4578 - val_categorical_accuracy: 0.4359 - lr: 1.0000e-04\n",
            "Epoch 74/100\n",
            "17/17 [==============================] - ETA: 0s - loss: 1.2319 - categorical_accuracy: 0.5897\n",
            "Epoch 74: val_loss did not improve from 1.35280\n",
            "17/17 [==============================] - 17s 1s/step - loss: 1.2319 - categorical_accuracy: 0.5897 - val_loss: 1.4664 - val_categorical_accuracy: 0.4017 - lr: 1.0000e-04\n",
            "Epoch 75/100\n",
            "17/17 [==============================] - ETA: 0s - loss: 1.2248 - categorical_accuracy: 0.5958\n",
            "Epoch 75: val_loss did not improve from 1.35280\n",
            "17/17 [==============================] - 17s 1s/step - loss: 1.2248 - categorical_accuracy: 0.5958 - val_loss: 1.4864 - val_categorical_accuracy: 0.3590 - lr: 1.0000e-04\n",
            "Epoch 76/100\n",
            "17/17 [==============================] - ETA: 0s - loss: 1.2273 - categorical_accuracy: 0.5973\n",
            "Epoch 76: val_loss did not improve from 1.35280\n",
            "17/17 [==============================] - 17s 1s/step - loss: 1.2273 - categorical_accuracy: 0.5973 - val_loss: 1.4484 - val_categorical_accuracy: 0.4274 - lr: 1.0000e-04\n",
            "Epoch 77/100\n",
            "17/17 [==============================] - ETA: 0s - loss: 1.2305 - categorical_accuracy: 0.6003\n",
            "Epoch 77: val_loss did not improve from 1.35280\n",
            "17/17 [==============================] - 17s 1s/step - loss: 1.2305 - categorical_accuracy: 0.6003 - val_loss: 1.4308 - val_categorical_accuracy: 0.4615 - lr: 1.0000e-04\n",
            "Epoch 78/100\n",
            "17/17 [==============================] - ETA: 0s - loss: 1.2257 - categorical_accuracy: 0.6018\n",
            "Epoch 78: val_loss did not improve from 1.35280\n",
            "17/17 [==============================] - 17s 1s/step - loss: 1.2257 - categorical_accuracy: 0.6018 - val_loss: 1.4407 - val_categorical_accuracy: 0.4786 - lr: 1.0000e-04\n",
            "Epoch 79/100\n",
            "17/17 [==============================] - ETA: 0s - loss: 1.2294 - categorical_accuracy: 0.5943\n",
            "Epoch 79: val_loss did not improve from 1.35280\n",
            "17/17 [==============================] - 17s 1s/step - loss: 1.2294 - categorical_accuracy: 0.5943 - val_loss: 1.3875 - val_categorical_accuracy: 0.4701 - lr: 1.0000e-04\n",
            "Epoch 80/100\n",
            "17/17 [==============================] - ETA: 0s - loss: 1.2281 - categorical_accuracy: 0.5973\n",
            "Epoch 80: val_loss did not improve from 1.35280\n",
            "17/17 [==============================] - 17s 1s/step - loss: 1.2281 - categorical_accuracy: 0.5973 - val_loss: 1.4212 - val_categorical_accuracy: 0.4274 - lr: 1.0000e-04\n",
            "Epoch 81/100\n",
            "17/17 [==============================] - ETA: 0s - loss: 1.2325 - categorical_accuracy: 0.6033\n",
            "Epoch 81: val_loss did not improve from 1.35280\n",
            "17/17 [==============================] - 17s 1s/step - loss: 1.2325 - categorical_accuracy: 0.6033 - val_loss: 1.4538 - val_categorical_accuracy: 0.4188 - lr: 1.0000e-04\n",
            "Epoch 82/100\n",
            "17/17 [==============================] - ETA: 0s - loss: 1.2290 - categorical_accuracy: 0.5988\n",
            "Epoch 82: val_loss did not improve from 1.35280\n",
            "17/17 [==============================] - 17s 1s/step - loss: 1.2290 - categorical_accuracy: 0.5988 - val_loss: 1.4541 - val_categorical_accuracy: 0.4274 - lr: 1.0000e-04\n",
            "Epoch 83/100\n",
            "17/17 [==============================] - ETA: 0s - loss: 1.2284 - categorical_accuracy: 0.5882\n",
            "Epoch 83: val_loss did not improve from 1.35280\n",
            "17/17 [==============================] - 18s 1s/step - loss: 1.2284 - categorical_accuracy: 0.5882 - val_loss: 1.4750 - val_categorical_accuracy: 0.4188 - lr: 1.0000e-04\n",
            "Epoch 84/100\n",
            "17/17 [==============================] - ETA: 0s - loss: 1.2290 - categorical_accuracy: 0.5882\n",
            "Epoch 84: val_loss did not improve from 1.35280\n",
            "17/17 [==============================] - 17s 1s/step - loss: 1.2290 - categorical_accuracy: 0.5882 - val_loss: 1.4560 - val_categorical_accuracy: 0.4444 - lr: 1.0000e-04\n",
            "Epoch 85/100\n",
            "17/17 [==============================] - ETA: 0s - loss: 1.2288 - categorical_accuracy: 0.6003\n",
            "Epoch 85: val_loss did not improve from 1.35280\n",
            "17/17 [==============================] - 17s 1s/step - loss: 1.2288 - categorical_accuracy: 0.6003 - val_loss: 1.4374 - val_categorical_accuracy: 0.4359 - lr: 1.0000e-04\n",
            "Epoch 86/100\n",
            "17/17 [==============================] - ETA: 0s - loss: 1.2254 - categorical_accuracy: 0.5943\n",
            "Epoch 86: val_loss did not improve from 1.35280\n",
            "17/17 [==============================] - 17s 1s/step - loss: 1.2254 - categorical_accuracy: 0.5943 - val_loss: 1.4050 - val_categorical_accuracy: 0.5043 - lr: 1.0000e-04\n",
            "Epoch 87/100\n",
            "17/17 [==============================] - ETA: 0s - loss: 1.2274 - categorical_accuracy: 0.5882\n",
            "Epoch 87: val_loss did not improve from 1.35280\n",
            "17/17 [==============================] - 17s 1s/step - loss: 1.2274 - categorical_accuracy: 0.5882 - val_loss: 1.4151 - val_categorical_accuracy: 0.4444 - lr: 1.0000e-04\n",
            "Epoch 88/100\n",
            "17/17 [==============================] - ETA: 0s - loss: 1.2306 - categorical_accuracy: 0.6003\n",
            "Epoch 88: val_loss did not improve from 1.35280\n",
            "17/17 [==============================] - 17s 1s/step - loss: 1.2306 - categorical_accuracy: 0.6003 - val_loss: 1.3977 - val_categorical_accuracy: 0.4786 - lr: 1.0000e-04\n",
            "Epoch 89/100\n",
            "17/17 [==============================] - ETA: 0s - loss: 1.2299 - categorical_accuracy: 0.6033\n",
            "Epoch 89: val_loss did not improve from 1.35280\n",
            "17/17 [==============================] - 17s 1s/step - loss: 1.2299 - categorical_accuracy: 0.6033 - val_loss: 1.4658 - val_categorical_accuracy: 0.4444 - lr: 1.0000e-04\n",
            "Epoch 90/100\n",
            "17/17 [==============================] - ETA: 0s - loss: 1.2286 - categorical_accuracy: 0.5928\n",
            "Epoch 90: val_loss did not improve from 1.35280\n",
            "17/17 [==============================] - 17s 1s/step - loss: 1.2286 - categorical_accuracy: 0.5928 - val_loss: 1.4773 - val_categorical_accuracy: 0.4188 - lr: 1.0000e-04\n",
            "Epoch 91/100\n",
            "17/17 [==============================] - ETA: 0s - loss: 1.2281 - categorical_accuracy: 0.5928\n",
            "Epoch 91: val_loss did not improve from 1.35280\n",
            "17/17 [==============================] - 17s 1s/step - loss: 1.2281 - categorical_accuracy: 0.5928 - val_loss: 1.4817 - val_categorical_accuracy: 0.3761 - lr: 1.0000e-04\n",
            "Epoch 92/100\n",
            "17/17 [==============================] - ETA: 0s - loss: 1.2286 - categorical_accuracy: 0.5943\n",
            "Epoch 92: val_loss did not improve from 1.35280\n",
            "17/17 [==============================] - 17s 1s/step - loss: 1.2286 - categorical_accuracy: 0.5943 - val_loss: 1.4599 - val_categorical_accuracy: 0.3932 - lr: 1.0000e-04\n",
            "Epoch 93/100\n",
            "17/17 [==============================] - ETA: 0s - loss: 1.2279 - categorical_accuracy: 0.5913\n",
            "Epoch 93: val_loss did not improve from 1.35280\n",
            "17/17 [==============================] - 17s 1s/step - loss: 1.2279 - categorical_accuracy: 0.5913 - val_loss: 1.3699 - val_categorical_accuracy: 0.5043 - lr: 1.0000e-04\n",
            "Epoch 94/100\n",
            "17/17 [==============================] - ETA: 0s - loss: 1.2258 - categorical_accuracy: 0.5958\n",
            "Epoch 94: val_loss did not improve from 1.35280\n",
            "17/17 [==============================] - 17s 1s/step - loss: 1.2258 - categorical_accuracy: 0.5958 - val_loss: 1.4095 - val_categorical_accuracy: 0.4359 - lr: 1.0000e-04\n",
            "Epoch 95/100\n",
            "17/17 [==============================] - ETA: 0s - loss: 1.2278 - categorical_accuracy: 0.5973\n",
            "Epoch 95: val_loss did not improve from 1.35280\n",
            "17/17 [==============================] - 17s 1s/step - loss: 1.2278 - categorical_accuracy: 0.5973 - val_loss: 1.4466 - val_categorical_accuracy: 0.4188 - lr: 1.0000e-04\n",
            "Epoch 96/100\n",
            "17/17 [==============================] - ETA: 0s - loss: 1.2262 - categorical_accuracy: 0.6003\n",
            "Epoch 96: val_loss did not improve from 1.35280\n",
            "17/17 [==============================] - 17s 1s/step - loss: 1.2262 - categorical_accuracy: 0.6003 - val_loss: 1.4452 - val_categorical_accuracy: 0.4274 - lr: 1.0000e-04\n",
            "Epoch 97/100\n",
            "17/17 [==============================] - ETA: 0s - loss: 1.2312 - categorical_accuracy: 0.5928\n",
            "Epoch 97: val_loss did not improve from 1.35280\n",
            "17/17 [==============================] - 18s 1s/step - loss: 1.2312 - categorical_accuracy: 0.5928 - val_loss: 1.4232 - val_categorical_accuracy: 0.4444 - lr: 1.0000e-04\n",
            "Epoch 98/100\n",
            "17/17 [==============================] - ETA: 0s - loss: 1.2271 - categorical_accuracy: 0.6003\n",
            "Epoch 98: val_loss did not improve from 1.35280\n",
            "17/17 [==============================] - 17s 1s/step - loss: 1.2271 - categorical_accuracy: 0.6003 - val_loss: 1.3868 - val_categorical_accuracy: 0.4701 - lr: 1.0000e-04\n",
            "Epoch 99/100\n",
            "17/17 [==============================] - ETA: 0s - loss: 1.2284 - categorical_accuracy: 0.5973\n",
            "Epoch 99: val_loss did not improve from 1.35280\n",
            "17/17 [==============================] - 17s 1s/step - loss: 1.2284 - categorical_accuracy: 0.5973 - val_loss: 1.3890 - val_categorical_accuracy: 0.4786 - lr: 1.0000e-04\n",
            "Epoch 100/100\n",
            "17/17 [==============================] - ETA: 0s - loss: 1.2286 - categorical_accuracy: 0.6048\n",
            "Epoch 100: val_loss did not improve from 1.35280\n",
            "17/17 [==============================] - 17s 1s/step - loss: 1.2286 - categorical_accuracy: 0.6048 - val_loss: 1.4119 - val_categorical_accuracy: 0.4359 - lr: 1.0000e-04\n"
          ]
        }
      ],
      "source": [
        "history=model.fit(train_generator, steps_per_epoch=steps_per_epoch, epochs=100, verbose=1, \n",
        "                    validation_data=val_generator, callbacks=callbacks_list,\n",
        "                    validation_steps=validation_steps, class_weight=None, workers=1, initial_epoch=0)"
      ]
    },
    {
      "cell_type": "code",
      "execution_count": 71,
      "metadata": {
        "colab": {
          "base_uri": "https://localhost:8080/",
          "height": 499
        },
        "outputId": "63e142b6-9f67-4221-9891-f2885ae4f6cd",
        "id": "O8tzFJFjE0Q3"
      },
      "outputs": [
        {
          "output_type": "display_data",
          "data": {
            "text/plain": [
              "<Figure size 576x576 with 2 Axes>"
            ],
            "image/png": "[encoded data removed]"
          },
          "metadata": {
            "needs_background": "light"
          }
        }
      ],
      "source": [
        "epochs=num_epochs\n",
        "plot_history(history) \n",
        " "
      ]
    },
    {
      "cell_type": "code",
      "source": [
        ""
      ],
      "metadata": {
        "id": "Im0wD3MqFJj8"
      },
      "execution_count": 48,
      "outputs": []
    }
  ],
  "metadata": {
    "colab": {
      "collapsed_sections": [
        "X-p9l5mLqHRQ",
        "R4iSBnvqqHS0",
        "WD5ebGjbc_WW",
        "CtHxfz1Bi6KK",
        "tUdimo_0oUiA",
        "s1zwfik2xH4j",
        "nOZzb-3-27X8"
      ],
      "name": "Gesture_submissionfile.ipynb",
      "provenance": []
    },
    "kernelspec": {
      "display_name": "Python 3",
      "language": "python",
      "name": "python3"
    },
    "language_info": {
      "codemirror_mode": {
        "name": "ipython",
        "version": 3
      },
      "file_extension": ".py",
      "mimetype": "text/x-python",
      "name": "python",
      "nbconvert_exporter": "python",
      "pygments_lexer": "ipython3",
      "version": "3.6.5"
    },
    "accelerator": "GPU"
  },
  "nbformat": 4,
  "nbformat_minor": 0
}